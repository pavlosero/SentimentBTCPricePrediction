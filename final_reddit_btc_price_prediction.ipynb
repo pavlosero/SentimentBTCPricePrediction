{
  "cells": [
    {
      "cell_type": "markdown",
      "metadata": {
        "id": "view-in-github",
        "colab_type": "text"
      },
      "source": [
        "<a href=\"https://colab.research.google.com/github/pavlosero/SentimentBTCPricePrediction/blob/main/final_reddit_btc_price_prediction.ipynb\" target=\"_parent\"><img src=\"https://colab.research.google.com/assets/colab-badge.svg\" alt=\"Open In Colab\"/></a>"
      ]
    },
    {
      "cell_type": "markdown",
      "metadata": {
        "id": "31ToL0Bygi_-"
      },
      "source": [
        "# Data extraction"
      ]
    },
    {
      "cell_type": "code",
      "execution_count": null,
      "metadata": {
        "id": "9FMl1_CtfnhD"
      },
      "outputs": [],
      "source": [
        "# imports\n",
        "import os\n",
        "import zipfile\n",
        "import urllib.request\n",
        "import pandas as pd\n",
        "import numpy as np\n",
        "from ipywidgets import IntProgress\n",
        "from IPython.display import display"
      ]
    },
    {
      "cell_type": "code",
      "execution_count": null,
      "metadata": {
        "id": "lWJgnhAIxhag"
      },
      "outputs": [],
      "source": [
        "tb_path = os.path.join(os.getcwd(),\"Dataset\")\n",
        "if not os.path.exists(tb_path):\n",
        "    os.makedirs(tb_path)"
      ]
    },
    {
      "cell_type": "code",
      "execution_count": null,
      "metadata": {
        "id": "zN2LBQq1w2ce"
      },
      "outputs": [],
      "source": [
        "# if not yet downloaded\n",
        "!wget \"https://www.dropbox.com/s/1q4l02692irq3pb/reddit_btc_dataset.zip\" -P Dataset/"
      ]
    },
    {
      "cell_type": "code",
      "execution_count": null,
      "metadata": {
        "colab": {
          "base_uri": "https://localhost:8080/"
        },
        "id": "gmj_WmUuh2xO",
        "outputId": "6983bb78-701f-44f4-90db-ea5cf8b43e7f"
      },
      "outputs": [
        {
          "output_type": "stream",
          "name": "stdout",
          "text": [
            "Successful extraction\n"
          ]
        }
      ],
      "source": [
        "tb_zip = os.path.join(os.getcwd(), \"Dataset/reddit_btc_dataset.zip\")\n",
        "with zipfile.ZipFile(tb_zip, 'r') as zip_ref:\n",
        "    zip_ref.extractall(path=tb_path)\n",
        "    print(\"Successful extraction\")"
      ]
    },
    {
      "cell_type": "markdown",
      "metadata": {
        "id": "-shZzmGBiu-z"
      },
      "source": [
        "# Reddit posts processing"
      ]
    },
    {
      "cell_type": "code",
      "execution_count": null,
      "metadata": {
        "colab": {
          "base_uri": "https://localhost:8080/",
          "height": 971
        },
        "id": "ni395aN3iI1F",
        "outputId": "842c9ab4-ed65-4f62-d527-a9876b113f02"
      },
      "outputs": [
        {
          "output_type": "execute_result",
          "data": {
            "text/plain": [
              "        type      id subreddit.id   subreddit.name  subreddit.nsfw  \\\n",
              "0       post  pfi1nw        9e4pv  cryptomoonshots           False   \n",
              "1       post  pfi0ci        9e4pv  cryptomoonshots           False   \n",
              "2       post  pfhztt        9e4pv  cryptomoonshots           False   \n",
              "3       post  pfhztr        9e4pv  cryptomoonshots           False   \n",
              "4       post  pfhz1z        9e4pv  cryptomoonshots           False   \n",
              "...      ...     ...          ...              ...             ...   \n",
              "250564  post  ovi1xx       3nwemq       cryptomoon           False   \n",
              "250565  post  ovi1aq       3nwemq       cryptomoon           False   \n",
              "250566  post  ovhzzt       3nwemq       cryptomoon           False   \n",
              "250567  post  ovhx98       3nwemq       cryptomoon           False   \n",
              "250568  post  ovhvpq       3nwemq       cryptomoon           False   \n",
              "\n",
              "        created_utc                                          permalink  \\\n",
              "0        1630454394  https://old.reddit.com/r/CryptoMoonShots/comme...   \n",
              "1        1630454262  https://old.reddit.com/r/CryptoMoonShots/comme...   \n",
              "2        1630454211  https://old.reddit.com/r/CryptoMoonShots/comme...   \n",
              "3        1630454211  https://old.reddit.com/r/CryptoMoonShots/comme...   \n",
              "4        1630454139  https://old.reddit.com/r/CryptoMoonShots/comme...   \n",
              "...             ...                                                ...   \n",
              "250564   1627776713  https://old.reddit.com/r/CryptoMoon/comments/o...   \n",
              "250565   1627776648  https://old.reddit.com/r/CryptoMoon/comments/o...   \n",
              "250566   1627776513  https://old.reddit.com/r/CryptoMoon/comments/o...   \n",
              "250567   1627776226  https://old.reddit.com/r/CryptoMoon/comments/o...   \n",
              "250568   1627776063  https://old.reddit.com/r/CryptoMoon/comments/o...   \n",
              "\n",
              "                      domain  url  \\\n",
              "0       self.cryptomoonshots  NaN   \n",
              "1       self.cryptomoonshots  NaN   \n",
              "2       self.cryptomoonshots  NaN   \n",
              "3       self.cryptomoonshots  NaN   \n",
              "4       self.cryptomoonshots  NaN   \n",
              "...                      ...  ...   \n",
              "250564       self.cryptomoon  NaN   \n",
              "250565       self.cryptomoon  NaN   \n",
              "250566       self.cryptomoon  NaN   \n",
              "250567       self.cryptomoon  NaN   \n",
              "250568       self.cryptomoon  NaN   \n",
              "\n",
              "                                                 selftext  \\\n",
              "0       ⚜️ 𝓟𝓻𝓸𝓶𝓮𝓽𝓱𝓮𝓾𝓼 ⚜️\\n\\n&amp;#x200B;\\n\\n&amp;#x200...   \n",
              "1                                               [removed]   \n",
              "2       1️. WHAT IS GETADAHERE?\\n\\nWe are a meme token...   \n",
              "3       Privacy is at odds and world governments are t...   \n",
              "4                                               [removed]   \n",
              "...                                                   ...   \n",
              "250564      🍕HOTCAKE🍕 ⏰ 1 SECOND OLD ON BSC 🍕  Listed ...   \n",
              "250565                                          [removed]   \n",
              "250566                                          [removed]   \n",
              "250567      🍕HOTCAKE🍕 ⏰ 1 SECOND OLD ON BSC 🍕  Listed ...   \n",
              "250568  🐕BabyShibaXRP 💵 ! 160K MarketCap | PooCoin ads...   \n",
              "\n",
              "                                                    title  score  \n",
              "0       🌍Next Generation Safe Token with $Cake Rewards...      3  \n",
              "1       CryptoBlast | Just stealth launched! 🚀| Insane...      1  \n",
              "2       🔹 getADAhere | 8% ADA Rewards | 900IQ Name | F...      3  \n",
              "3       💴 DEEZcash 💴 | $DZC | Fair Launched | Powerful...     11  \n",
              "4       🔹 getADAhere 🔹 | 😱 8% ADA Rewards 😱 | 🔥 900IQ ...      1  \n",
              "...                                                   ...    ...  \n",
              "250564  🍕HOTCAKE🍕 ⏰ 1 SECOND OLD ON BSC 🍕 Listed On Pa...      1  \n",
              "250565  🪀 TOKEMON NFT is the Next Binamon / Axie Infin...      1  \n",
              "250566  ⭐️Fair Launch Token⭐️|| 🔥Ecosystem🔥||⚡️Auto LP...      8  \n",
              "250567  🍕HOTCAKE🍕 ⏰ 1 SECOND OLD ON BSC 🍕 Listed On Pa...      1  \n",
              "250568  🐕BabyShibaXRP 💵 ! 160K MarketCap | PooCoin ads...      1  \n",
              "\n",
              "[250569 rows x 12 columns]"
            ],
            "text/html": [
              "\n",
              "  <div id=\"df-5c9a6229-2fd7-42ea-8dc3-84ebe9c5545d\">\n",
              "    <div class=\"colab-df-container\">\n",
              "      <div>\n",
              "<style scoped>\n",
              "    .dataframe tbody tr th:only-of-type {\n",
              "        vertical-align: middle;\n",
              "    }\n",
              "\n",
              "    .dataframe tbody tr th {\n",
              "        vertical-align: top;\n",
              "    }\n",
              "\n",
              "    .dataframe thead th {\n",
              "        text-align: right;\n",
              "    }\n",
              "</style>\n",
              "<table border=\"1\" class=\"dataframe\">\n",
              "  <thead>\n",
              "    <tr style=\"text-align: right;\">\n",
              "      <th></th>\n",
              "      <th>type</th>\n",
              "      <th>id</th>\n",
              "      <th>subreddit.id</th>\n",
              "      <th>subreddit.name</th>\n",
              "      <th>subreddit.nsfw</th>\n",
              "      <th>created_utc</th>\n",
              "      <th>permalink</th>\n",
              "      <th>domain</th>\n",
              "      <th>url</th>\n",
              "      <th>selftext</th>\n",
              "      <th>title</th>\n",
              "      <th>score</th>\n",
              "    </tr>\n",
              "  </thead>\n",
              "  <tbody>\n",
              "    <tr>\n",
              "      <th>0</th>\n",
              "      <td>post</td>\n",
              "      <td>pfi1nw</td>\n",
              "      <td>9e4pv</td>\n",
              "      <td>cryptomoonshots</td>\n",
              "      <td>False</td>\n",
              "      <td>1630454394</td>\n",
              "      <td>https://old.reddit.com/r/CryptoMoonShots/comme...</td>\n",
              "      <td>self.cryptomoonshots</td>\n",
              "      <td>NaN</td>\n",
              "      <td>⚜️ 𝓟𝓻𝓸𝓶𝓮𝓽𝓱𝓮𝓾𝓼 ⚜️\\n\\n&amp;amp;#x200B;\\n\\n&amp;amp;#x200...</td>\n",
              "      <td>🌍Next Generation Safe Token with $Cake Rewards...</td>\n",
              "      <td>3</td>\n",
              "    </tr>\n",
              "    <tr>\n",
              "      <th>1</th>\n",
              "      <td>post</td>\n",
              "      <td>pfi0ci</td>\n",
              "      <td>9e4pv</td>\n",
              "      <td>cryptomoonshots</td>\n",
              "      <td>False</td>\n",
              "      <td>1630454262</td>\n",
              "      <td>https://old.reddit.com/r/CryptoMoonShots/comme...</td>\n",
              "      <td>self.cryptomoonshots</td>\n",
              "      <td>NaN</td>\n",
              "      <td>[removed]</td>\n",
              "      <td>CryptoBlast | Just stealth launched! 🚀| Insane...</td>\n",
              "      <td>1</td>\n",
              "    </tr>\n",
              "    <tr>\n",
              "      <th>2</th>\n",
              "      <td>post</td>\n",
              "      <td>pfhztt</td>\n",
              "      <td>9e4pv</td>\n",
              "      <td>cryptomoonshots</td>\n",
              "      <td>False</td>\n",
              "      <td>1630454211</td>\n",
              "      <td>https://old.reddit.com/r/CryptoMoonShots/comme...</td>\n",
              "      <td>self.cryptomoonshots</td>\n",
              "      <td>NaN</td>\n",
              "      <td>1️. WHAT IS GETADAHERE?\\n\\nWe are a meme token...</td>\n",
              "      <td>🔹 getADAhere | 8% ADA Rewards | 900IQ Name | F...</td>\n",
              "      <td>3</td>\n",
              "    </tr>\n",
              "    <tr>\n",
              "      <th>3</th>\n",
              "      <td>post</td>\n",
              "      <td>pfhztr</td>\n",
              "      <td>9e4pv</td>\n",
              "      <td>cryptomoonshots</td>\n",
              "      <td>False</td>\n",
              "      <td>1630454211</td>\n",
              "      <td>https://old.reddit.com/r/CryptoMoonShots/comme...</td>\n",
              "      <td>self.cryptomoonshots</td>\n",
              "      <td>NaN</td>\n",
              "      <td>Privacy is at odds and world governments are t...</td>\n",
              "      <td>💴 DEEZcash 💴 | $DZC | Fair Launched | Powerful...</td>\n",
              "      <td>11</td>\n",
              "    </tr>\n",
              "    <tr>\n",
              "      <th>4</th>\n",
              "      <td>post</td>\n",
              "      <td>pfhz1z</td>\n",
              "      <td>9e4pv</td>\n",
              "      <td>cryptomoonshots</td>\n",
              "      <td>False</td>\n",
              "      <td>1630454139</td>\n",
              "      <td>https://old.reddit.com/r/CryptoMoonShots/comme...</td>\n",
              "      <td>self.cryptomoonshots</td>\n",
              "      <td>NaN</td>\n",
              "      <td>[removed]</td>\n",
              "      <td>🔹 getADAhere 🔹 | 😱 8% ADA Rewards 😱 | 🔥 900IQ ...</td>\n",
              "      <td>1</td>\n",
              "    </tr>\n",
              "    <tr>\n",
              "      <th>...</th>\n",
              "      <td>...</td>\n",
              "      <td>...</td>\n",
              "      <td>...</td>\n",
              "      <td>...</td>\n",
              "      <td>...</td>\n",
              "      <td>...</td>\n",
              "      <td>...</td>\n",
              "      <td>...</td>\n",
              "      <td>...</td>\n",
              "      <td>...</td>\n",
              "      <td>...</td>\n",
              "      <td>...</td>\n",
              "    </tr>\n",
              "    <tr>\n",
              "      <th>250564</th>\n",
              "      <td>post</td>\n",
              "      <td>ovi1xx</td>\n",
              "      <td>3nwemq</td>\n",
              "      <td>cryptomoon</td>\n",
              "      <td>False</td>\n",
              "      <td>1627776713</td>\n",
              "      <td>https://old.reddit.com/r/CryptoMoon/comments/o...</td>\n",
              "      <td>self.cryptomoon</td>\n",
              "      <td>NaN</td>\n",
              "      <td>🍕HOTCAKE🍕 ⏰ 1 SECOND OLD ON BSC 🍕  Listed ...</td>\n",
              "      <td>🍕HOTCAKE🍕 ⏰ 1 SECOND OLD ON BSC 🍕 Listed On Pa...</td>\n",
              "      <td>1</td>\n",
              "    </tr>\n",
              "    <tr>\n",
              "      <th>250565</th>\n",
              "      <td>post</td>\n",
              "      <td>ovi1aq</td>\n",
              "      <td>3nwemq</td>\n",
              "      <td>cryptomoon</td>\n",
              "      <td>False</td>\n",
              "      <td>1627776648</td>\n",
              "      <td>https://old.reddit.com/r/CryptoMoon/comments/o...</td>\n",
              "      <td>self.cryptomoon</td>\n",
              "      <td>NaN</td>\n",
              "      <td>[removed]</td>\n",
              "      <td>🪀 TOKEMON NFT is the Next Binamon / Axie Infin...</td>\n",
              "      <td>1</td>\n",
              "    </tr>\n",
              "    <tr>\n",
              "      <th>250566</th>\n",
              "      <td>post</td>\n",
              "      <td>ovhzzt</td>\n",
              "      <td>3nwemq</td>\n",
              "      <td>cryptomoon</td>\n",
              "      <td>False</td>\n",
              "      <td>1627776513</td>\n",
              "      <td>https://old.reddit.com/r/CryptoMoon/comments/o...</td>\n",
              "      <td>self.cryptomoon</td>\n",
              "      <td>NaN</td>\n",
              "      <td>[removed]</td>\n",
              "      <td>⭐️Fair Launch Token⭐️|| 🔥Ecosystem🔥||⚡️Auto LP...</td>\n",
              "      <td>8</td>\n",
              "    </tr>\n",
              "    <tr>\n",
              "      <th>250567</th>\n",
              "      <td>post</td>\n",
              "      <td>ovhx98</td>\n",
              "      <td>3nwemq</td>\n",
              "      <td>cryptomoon</td>\n",
              "      <td>False</td>\n",
              "      <td>1627776226</td>\n",
              "      <td>https://old.reddit.com/r/CryptoMoon/comments/o...</td>\n",
              "      <td>self.cryptomoon</td>\n",
              "      <td>NaN</td>\n",
              "      <td>🍕HOTCAKE🍕 ⏰ 1 SECOND OLD ON BSC 🍕  Listed ...</td>\n",
              "      <td>🍕HOTCAKE🍕 ⏰ 1 SECOND OLD ON BSC 🍕 Listed On Pa...</td>\n",
              "      <td>1</td>\n",
              "    </tr>\n",
              "    <tr>\n",
              "      <th>250568</th>\n",
              "      <td>post</td>\n",
              "      <td>ovhvpq</td>\n",
              "      <td>3nwemq</td>\n",
              "      <td>cryptomoon</td>\n",
              "      <td>False</td>\n",
              "      <td>1627776063</td>\n",
              "      <td>https://old.reddit.com/r/CryptoMoon/comments/o...</td>\n",
              "      <td>self.cryptomoon</td>\n",
              "      <td>NaN</td>\n",
              "      <td>🐕BabyShibaXRP 💵 ! 160K MarketCap | PooCoin ads...</td>\n",
              "      <td>🐕BabyShibaXRP 💵 ! 160K MarketCap | PooCoin ads...</td>\n",
              "      <td>1</td>\n",
              "    </tr>\n",
              "  </tbody>\n",
              "</table>\n",
              "<p>250569 rows × 12 columns</p>\n",
              "</div>\n",
              "      <button class=\"colab-df-convert\" onclick=\"convertToInteractive('df-5c9a6229-2fd7-42ea-8dc3-84ebe9c5545d')\"\n",
              "              title=\"Convert this dataframe to an interactive table.\"\n",
              "              style=\"display:none;\">\n",
              "        \n",
              "  <svg xmlns=\"http://www.w3.org/2000/svg\" height=\"24px\"viewBox=\"0 0 24 24\"\n",
              "       width=\"24px\">\n",
              "    <path d=\"M0 0h24v24H0V0z\" fill=\"none\"/>\n",
              "    <path d=\"M18.56 5.44l.94 2.06.94-2.06 2.06-.94-2.06-.94-.94-2.06-.94 2.06-2.06.94zm-11 1L8.5 8.5l.94-2.06 2.06-.94-2.06-.94L8.5 2.5l-.94 2.06-2.06.94zm10 10l.94 2.06.94-2.06 2.06-.94-2.06-.94-.94-2.06-.94 2.06-2.06.94z\"/><path d=\"M17.41 7.96l-1.37-1.37c-.4-.4-.92-.59-1.43-.59-.52 0-1.04.2-1.43.59L10.3 9.45l-7.72 7.72c-.78.78-.78 2.05 0 2.83L4 21.41c.39.39.9.59 1.41.59.51 0 1.02-.2 1.41-.59l7.78-7.78 2.81-2.81c.8-.78.8-2.07 0-2.86zM5.41 20L4 18.59l7.72-7.72 1.47 1.35L5.41 20z\"/>\n",
              "  </svg>\n",
              "      </button>\n",
              "      \n",
              "  <style>\n",
              "    .colab-df-container {\n",
              "      display:flex;\n",
              "      flex-wrap:wrap;\n",
              "      gap: 12px;\n",
              "    }\n",
              "\n",
              "    .colab-df-convert {\n",
              "      background-color: #E8F0FE;\n",
              "      border: none;\n",
              "      border-radius: 50%;\n",
              "      cursor: pointer;\n",
              "      display: none;\n",
              "      fill: #1967D2;\n",
              "      height: 32px;\n",
              "      padding: 0 0 0 0;\n",
              "      width: 32px;\n",
              "    }\n",
              "\n",
              "    .colab-df-convert:hover {\n",
              "      background-color: #E2EBFA;\n",
              "      box-shadow: 0px 1px 2px rgba(60, 64, 67, 0.3), 0px 1px 3px 1px rgba(60, 64, 67, 0.15);\n",
              "      fill: #174EA6;\n",
              "    }\n",
              "\n",
              "    [theme=dark] .colab-df-convert {\n",
              "      background-color: #3B4455;\n",
              "      fill: #D2E3FC;\n",
              "    }\n",
              "\n",
              "    [theme=dark] .colab-df-convert:hover {\n",
              "      background-color: #434B5C;\n",
              "      box-shadow: 0px 1px 3px 1px rgba(0, 0, 0, 0.15);\n",
              "      filter: drop-shadow(0px 1px 2px rgba(0, 0, 0, 0.3));\n",
              "      fill: #FFFFFF;\n",
              "    }\n",
              "  </style>\n",
              "\n",
              "      <script>\n",
              "        const buttonEl =\n",
              "          document.querySelector('#df-5c9a6229-2fd7-42ea-8dc3-84ebe9c5545d button.colab-df-convert');\n",
              "        buttonEl.style.display =\n",
              "          google.colab.kernel.accessAllowed ? 'block' : 'none';\n",
              "\n",
              "        async function convertToInteractive(key) {\n",
              "          const element = document.querySelector('#df-5c9a6229-2fd7-42ea-8dc3-84ebe9c5545d');\n",
              "          const dataTable =\n",
              "            await google.colab.kernel.invokeFunction('convertToInteractive',\n",
              "                                                     [key], {});\n",
              "          if (!dataTable) return;\n",
              "\n",
              "          const docLinkHtml = 'Like what you see? Visit the ' +\n",
              "            '<a target=\"_blank\" href=https://colab.research.google.com/notebooks/data_table.ipynb>data table notebook</a>'\n",
              "            + ' to learn more about interactive tables.';\n",
              "          element.innerHTML = '';\n",
              "          dataTable['output_type'] = 'display_data';\n",
              "          await google.colab.output.renderOutput(dataTable, element);\n",
              "          const docLink = document.createElement('div');\n",
              "          docLink.innerHTML = docLinkHtml;\n",
              "          element.appendChild(docLink);\n",
              "        }\n",
              "      </script>\n",
              "    </div>\n",
              "  </div>\n",
              "  "
            ]
          },
          "metadata": {},
          "execution_count": 5
        }
      ],
      "source": [
        "# reddit data\n",
        "path = \"/content/Dataset/\"\n",
        "filename_reddit_posts = \"crypto-aug-2021-posts.csv\"\n",
        "filename_reddit_comments = \"crypto-aug-2021-comments.csv\"\n",
        "pd_posts = pd.read_csv(path+filename_reddit_posts)\n",
        "pd_comments = pd.read_csv(path+filename_reddit_comments)\n",
        "pd_posts"
      ]
    },
    {
      "cell_type": "code",
      "execution_count": null,
      "metadata": {
        "colab": {
          "base_uri": "https://localhost:8080/",
          "height": 626
        },
        "id": "9Zo3sKFhrSbu",
        "outputId": "9b1b2043-d029-4256-8d9e-4a33c0a74388"
      },
      "outputs": [
        {
          "data": {
            "text/html": [
              "\n",
              "  <div id=\"df-172142f1-ea15-4f9d-af5b-063f6babb9f8\">\n",
              "    <div class=\"colab-df-container\">\n",
              "      <div>\n",
              "<style scoped>\n",
              "    .dataframe tbody tr th:only-of-type {\n",
              "        vertical-align: middle;\n",
              "    }\n",
              "\n",
              "    .dataframe tbody tr th {\n",
              "        vertical-align: top;\n",
              "    }\n",
              "\n",
              "    .dataframe thead th {\n",
              "        text-align: right;\n",
              "    }\n",
              "</style>\n",
              "<table border=\"1\" class=\"dataframe\">\n",
              "  <thead>\n",
              "    <tr style=\"text-align: right;\">\n",
              "      <th></th>\n",
              "      <th>type</th>\n",
              "      <th>id</th>\n",
              "      <th>subreddit.id</th>\n",
              "      <th>subreddit.name</th>\n",
              "      <th>subreddit.nsfw</th>\n",
              "      <th>created_utc</th>\n",
              "      <th>permalink</th>\n",
              "      <th>body</th>\n",
              "      <th>sentiment</th>\n",
              "      <th>score</th>\n",
              "    </tr>\n",
              "  </thead>\n",
              "  <tbody>\n",
              "    <tr>\n",
              "      <th>0</th>\n",
              "      <td>comment</td>\n",
              "      <td>hb4hdni</td>\n",
              "      <td>9e4pv</td>\n",
              "      <td>cryptomoonshots</td>\n",
              "      <td>False</td>\n",
              "      <td>1630454394</td>\n",
              "      <td>https://old.reddit.com/r/CryptoMoonShots/comme...</td>\n",
              "      <td>Be sure to do your own diligence. Assume that ...</td>\n",
              "      <td>0.8885</td>\n",
              "      <td>1</td>\n",
              "    </tr>\n",
              "    <tr>\n",
              "      <th>1</th>\n",
              "      <td>comment</td>\n",
              "      <td>hb4hd3u</td>\n",
              "      <td>9e4pv</td>\n",
              "      <td>cryptomoonshots</td>\n",
              "      <td>False</td>\n",
              "      <td>1630454387</td>\n",
              "      <td>https://old.reddit.com/r/CryptoMoonShots/comme...</td>\n",
              "      <td>[removed]</td>\n",
              "      <td>NaN</td>\n",
              "      <td>1</td>\n",
              "    </tr>\n",
              "    <tr>\n",
              "      <th>2</th>\n",
              "      <td>comment</td>\n",
              "      <td>hb4hbyc</td>\n",
              "      <td>9e4pv</td>\n",
              "      <td>cryptomoonshots</td>\n",
              "      <td>False</td>\n",
              "      <td>1630454372</td>\n",
              "      <td>https://old.reddit.com/r/CryptoMoonShots/comme...</td>\n",
              "      <td>[removed]</td>\n",
              "      <td>NaN</td>\n",
              "      <td>1</td>\n",
              "    </tr>\n",
              "    <tr>\n",
              "      <th>3</th>\n",
              "      <td>comment</td>\n",
              "      <td>hb4hbge</td>\n",
              "      <td>9e4pv</td>\n",
              "      <td>cryptomoonshots</td>\n",
              "      <td>False</td>\n",
              "      <td>1630454366</td>\n",
              "      <td>https://old.reddit.com/r/CryptoMoonShots/comme...</td>\n",
              "      <td>[removed]</td>\n",
              "      <td>NaN</td>\n",
              "      <td>1</td>\n",
              "    </tr>\n",
              "    <tr>\n",
              "      <th>4</th>\n",
              "      <td>comment</td>\n",
              "      <td>hb4hb1u</td>\n",
              "      <td>9e4pv</td>\n",
              "      <td>cryptomoonshots</td>\n",
              "      <td>False</td>\n",
              "      <td>1630454360</td>\n",
              "      <td>https://old.reddit.com/r/CryptoMoonShots/comme...</td>\n",
              "      <td>[removed]</td>\n",
              "      <td>NaN</td>\n",
              "      <td>1</td>\n",
              "    </tr>\n",
              "    <tr>\n",
              "      <th>...</th>\n",
              "      <td>...</td>\n",
              "      <td>...</td>\n",
              "      <td>...</td>\n",
              "      <td>...</td>\n",
              "      <td>...</td>\n",
              "      <td>...</td>\n",
              "      <td>...</td>\n",
              "      <td>...</td>\n",
              "      <td>...</td>\n",
              "      <td>...</td>\n",
              "    </tr>\n",
              "    <tr>\n",
              "      <th>3756092</th>\n",
              "      <td>comment</td>\n",
              "      <td>h79bjku</td>\n",
              "      <td>3nwemq</td>\n",
              "      <td>cryptomoon</td>\n",
              "      <td>False</td>\n",
              "      <td>1627776211</td>\n",
              "      <td>https://old.reddit.com/r/CryptoMoon/comments/o...</td>\n",
              "      <td>Great project</td>\n",
              "      <td>0.6249</td>\n",
              "      <td>1</td>\n",
              "    </tr>\n",
              "    <tr>\n",
              "      <th>3756093</th>\n",
              "      <td>comment</td>\n",
              "      <td>h79bhmb</td>\n",
              "      <td>3nwemq</td>\n",
              "      <td>cryptomoon</td>\n",
              "      <td>False</td>\n",
              "      <td>1627776181</td>\n",
              "      <td>https://old.reddit.com/r/CryptoMoon/comments/o...</td>\n",
              "      <td>[removed]</td>\n",
              "      <td>NaN</td>\n",
              "      <td>1</td>\n",
              "    </tr>\n",
              "    <tr>\n",
              "      <th>3756094</th>\n",
              "      <td>comment</td>\n",
              "      <td>h79bftq</td>\n",
              "      <td>3nwemq</td>\n",
              "      <td>cryptomoon</td>\n",
              "      <td>False</td>\n",
              "      <td>1627776154</td>\n",
              "      <td>https://old.reddit.com/r/CryptoMoon/comments/o...</td>\n",
              "      <td>[removed]</td>\n",
              "      <td>NaN</td>\n",
              "      <td>1</td>\n",
              "    </tr>\n",
              "    <tr>\n",
              "      <th>3756095</th>\n",
              "      <td>comment</td>\n",
              "      <td>h79beot</td>\n",
              "      <td>3nwemq</td>\n",
              "      <td>cryptomoon</td>\n",
              "      <td>False</td>\n",
              "      <td>1627776136</td>\n",
              "      <td>https://old.reddit.com/r/CryptoMoon/comments/o...</td>\n",
              "      <td>[removed]</td>\n",
              "      <td>NaN</td>\n",
              "      <td>1</td>\n",
              "    </tr>\n",
              "    <tr>\n",
              "      <th>3756096</th>\n",
              "      <td>comment</td>\n",
              "      <td>h79bd06</td>\n",
              "      <td>3nwemq</td>\n",
              "      <td>cryptomoon</td>\n",
              "      <td>False</td>\n",
              "      <td>1627776110</td>\n",
              "      <td>https://old.reddit.com/r/CryptoMoon/comments/o...</td>\n",
              "      <td>SpaceMoon to the moon🚀✨</td>\n",
              "      <td>0.3182</td>\n",
              "      <td>1</td>\n",
              "    </tr>\n",
              "  </tbody>\n",
              "</table>\n",
              "<p>3756097 rows × 10 columns</p>\n",
              "</div>\n",
              "      <button class=\"colab-df-convert\" onclick=\"convertToInteractive('df-172142f1-ea15-4f9d-af5b-063f6babb9f8')\"\n",
              "              title=\"Convert this dataframe to an interactive table.\"\n",
              "              style=\"display:none;\">\n",
              "        \n",
              "  <svg xmlns=\"http://www.w3.org/2000/svg\" height=\"24px\"viewBox=\"0 0 24 24\"\n",
              "       width=\"24px\">\n",
              "    <path d=\"M0 0h24v24H0V0z\" fill=\"none\"/>\n",
              "    <path d=\"M18.56 5.44l.94 2.06.94-2.06 2.06-.94-2.06-.94-.94-2.06-.94 2.06-2.06.94zm-11 1L8.5 8.5l.94-2.06 2.06-.94-2.06-.94L8.5 2.5l-.94 2.06-2.06.94zm10 10l.94 2.06.94-2.06 2.06-.94-2.06-.94-.94-2.06-.94 2.06-2.06.94z\"/><path d=\"M17.41 7.96l-1.37-1.37c-.4-.4-.92-.59-1.43-.59-.52 0-1.04.2-1.43.59L10.3 9.45l-7.72 7.72c-.78.78-.78 2.05 0 2.83L4 21.41c.39.39.9.59 1.41.59.51 0 1.02-.2 1.41-.59l7.78-7.78 2.81-2.81c.8-.78.8-2.07 0-2.86zM5.41 20L4 18.59l7.72-7.72 1.47 1.35L5.41 20z\"/>\n",
              "  </svg>\n",
              "      </button>\n",
              "      \n",
              "  <style>\n",
              "    .colab-df-container {\n",
              "      display:flex;\n",
              "      flex-wrap:wrap;\n",
              "      gap: 12px;\n",
              "    }\n",
              "\n",
              "    .colab-df-convert {\n",
              "      background-color: #E8F0FE;\n",
              "      border: none;\n",
              "      border-radius: 50%;\n",
              "      cursor: pointer;\n",
              "      display: none;\n",
              "      fill: #1967D2;\n",
              "      height: 32px;\n",
              "      padding: 0 0 0 0;\n",
              "      width: 32px;\n",
              "    }\n",
              "\n",
              "    .colab-df-convert:hover {\n",
              "      background-color: #E2EBFA;\n",
              "      box-shadow: 0px 1px 2px rgba(60, 64, 67, 0.3), 0px 1px 3px 1px rgba(60, 64, 67, 0.15);\n",
              "      fill: #174EA6;\n",
              "    }\n",
              "\n",
              "    [theme=dark] .colab-df-convert {\n",
              "      background-color: #3B4455;\n",
              "      fill: #D2E3FC;\n",
              "    }\n",
              "\n",
              "    [theme=dark] .colab-df-convert:hover {\n",
              "      background-color: #434B5C;\n",
              "      box-shadow: 0px 1px 3px 1px rgba(0, 0, 0, 0.15);\n",
              "      filter: drop-shadow(0px 1px 2px rgba(0, 0, 0, 0.3));\n",
              "      fill: #FFFFFF;\n",
              "    }\n",
              "  </style>\n",
              "\n",
              "      <script>\n",
              "        const buttonEl =\n",
              "          document.querySelector('#df-172142f1-ea15-4f9d-af5b-063f6babb9f8 button.colab-df-convert');\n",
              "        buttonEl.style.display =\n",
              "          google.colab.kernel.accessAllowed ? 'block' : 'none';\n",
              "\n",
              "        async function convertToInteractive(key) {\n",
              "          const element = document.querySelector('#df-172142f1-ea15-4f9d-af5b-063f6babb9f8');\n",
              "          const dataTable =\n",
              "            await google.colab.kernel.invokeFunction('convertToInteractive',\n",
              "                                                     [key], {});\n",
              "          if (!dataTable) return;\n",
              "\n",
              "          const docLinkHtml = 'Like what you see? Visit the ' +\n",
              "            '<a target=\"_blank\" href=https://colab.research.google.com/notebooks/data_table.ipynb>data table notebook</a>'\n",
              "            + ' to learn more about interactive tables.';\n",
              "          element.innerHTML = '';\n",
              "          dataTable['output_type'] = 'display_data';\n",
              "          await google.colab.output.renderOutput(dataTable, element);\n",
              "          const docLink = document.createElement('div');\n",
              "          docLink.innerHTML = docLinkHtml;\n",
              "          element.appendChild(docLink);\n",
              "        }\n",
              "      </script>\n",
              "    </div>\n",
              "  </div>\n",
              "  "
            ],
            "text/plain": [
              "            type       id  ... sentiment score\n",
              "0        comment  hb4hdni  ...    0.8885     1\n",
              "1        comment  hb4hd3u  ...       NaN     1\n",
              "2        comment  hb4hbyc  ...       NaN     1\n",
              "3        comment  hb4hbge  ...       NaN     1\n",
              "4        comment  hb4hb1u  ...       NaN     1\n",
              "...          ...      ...  ...       ...   ...\n",
              "3756092  comment  h79bjku  ...    0.6249     1\n",
              "3756093  comment  h79bhmb  ...       NaN     1\n",
              "3756094  comment  h79bftq  ...       NaN     1\n",
              "3756095  comment  h79beot  ...       NaN     1\n",
              "3756096  comment  h79bd06  ...    0.3182     1\n",
              "\n",
              "[3756097 rows x 10 columns]"
            ]
          },
          "execution_count": 7,
          "metadata": {},
          "output_type": "execute_result"
        }
      ],
      "source": [
        "pd_comments"
      ]
    },
    {
      "cell_type": "markdown",
      "metadata": {
        "id": "AWH9_P5pi23U"
      },
      "source": [
        "## Preprocessing"
      ]
    },
    {
      "cell_type": "code",
      "execution_count": null,
      "metadata": {
        "colab": {
          "base_uri": "https://localhost:8080/"
        },
        "id": "HHFOoHvW2XQ4",
        "outputId": "40ee4a48-2acb-4055-9839-b58f003d8044"
      },
      "outputs": [
        {
          "output_type": "stream",
          "name": "stderr",
          "text": [
            "[nltk_data] Downloading package stopwords to /root/nltk_data...\n",
            "[nltk_data]   Package stopwords is already up-to-date!\n"
          ]
        },
        {
          "output_type": "execute_result",
          "data": {
            "text/plain": [
              "True"
            ]
          },
          "metadata": {},
          "execution_count": 8
        }
      ],
      "source": [
        "from nltk.probability import FreqDist\n",
        "import re\n",
        "import nltk\n",
        "from functools import reduce\n",
        "from nltk.corpus import stopwords\n",
        "nltk.download('stopwords')"
      ]
    },
    {
      "cell_type": "code",
      "execution_count": null,
      "metadata": {
        "id": "6p5y2_6hgtfV"
      },
      "outputs": [],
      "source": [
        "#keywords\n",
        "cryptos = [\"bitcoin\", \"btc\"]\n",
        "# undesired\n",
        "undesired_phrases = [\"[removed]\", \"[deleted]\", \"i am a bot\", \"i am bot\", \"contact the moderators\", \"give away\", \"giving away\", \"pump register\", \"pump join\"]\n",
        "\n",
        "\n",
        "def to_lower(data):\n",
        "  return data.lower()\n",
        "\n",
        "def cleaning_newlines(data):\n",
        "    return re.sub(r'\\n','',data)\n",
        "\n",
        "def cleaning_URLs(data):\n",
        "    return re.sub('(https?:\\/\\/)?([\\da-z\\.-]+)\\.([a-z\\.]{2,6})([\\/\\w \\.-]*)','',data)\n",
        "\n",
        "def cleaning_sqbracket(data):\n",
        "    return re.sub('\\[[^)]*\\]','',data)\n",
        "\n",
        "def cleaning_parenthesis(data):\n",
        "    return re.sub('\\([^)]*\\)','',data)\n",
        "\n",
        "#stp word removal is very imp in sentiment analysis\n",
        "STOPWORDS=stopwords.words('english')\n",
        "def cleaning_stopwords(text):\n",
        "    return \" \".join([word for word in str(text).split() if word not in STOPWORDS])\n",
        "\n",
        "def strip_text(text):\n",
        "    return re.sub('  +',' ',text)\n",
        "\n",
        "def strip_t(text):\n",
        "    return text.strip()\n",
        "\n",
        "def is_desired_phrase(text):\n",
        "    for phrase in undesired_phrases:\n",
        "      if all([a in text.split() for a in phrase.split()]):\n",
        "        return False\n",
        "    return True\n",
        "\n",
        "preprocessing_pipeline = [to_lower, cleaning_newlines, cleaning_URLs, cleaning_sqbracket, cleaning_parenthesis, cleaning_stopwords, strip_text, strip_t]"
      ]
    },
    {
      "cell_type": "markdown",
      "metadata": {
        "id": "Ml2qC7WdbcXC"
      },
      "source": [
        "#### Posts preprocessing"
      ]
    },
    {
      "cell_type": "code",
      "execution_count": null,
      "metadata": {
        "id": "EN_kSNnBimXE"
      },
      "outputs": [],
      "source": [
        "#posts preprocessing\n",
        "\n",
        "# select only body and timestamp and permalink for comments\n",
        "posts = pd_posts[[\"created_utc\", \"title\", \"selftext\", \"permalink\"]].copy() \n",
        "\n",
        "# merge title and selftex\n",
        "posts[\"body\"] = posts[\"title\"] + \". \" + posts[\"selftext\"]\n",
        "\n",
        "#posts[\"body\"] = posts[\"body\"].str.lower()\n",
        "\n",
        "# delete undesired: deleting if there is an occurance of every word in undesired phrase \n",
        "posts = posts.loc[posts[\"body\"].apply(lambda x: is_desired_phrase(str(x)))]\n",
        "\n",
        "# text preprocesing\n",
        "for filter in preprocessing_pipeline:\n",
        "  posts[\"body\"] = posts[\"body\"].apply(lambda x: filter(str(x)))\n",
        "\n"
      ]
    },
    {
      "cell_type": "code",
      "execution_count": null,
      "metadata": {
        "id": "m7DTrkUD2asp"
      },
      "outputs": [],
      "source": [
        "#  spam filtering\n",
        "# delete most frequent posts\n",
        "fdist = FreqDist(posts['body'])\n",
        "most_freq_posts = [x[0] for x in  fdist.most_common(50)]\n",
        "\n",
        "posts = posts.loc[posts[\"body\"].apply(lambda x: not (x in most_freq_posts))]\n",
        "\n",
        "posts[\"body\"][posts[\"body\"]==''] = \"message\""
      ]
    },
    {
      "cell_type": "code",
      "execution_count": null,
      "metadata": {
        "colab": {
          "base_uri": "https://localhost:8080/",
          "height": 659
        },
        "id": "fCz4JpGn7tpB",
        "outputId": "76dafc07-5730-4118-fe5f-fb8dbc684b02"
      },
      "outputs": [
        {
          "output_type": "stream",
          "name": "stdout",
          "text": [
            "Posts:  before preprocessing 250569 | after preprocessing 121902\n"
          ]
        },
        {
          "output_type": "execute_result",
          "data": {
            "text/plain": [
              "        created_utc                                              title  \\\n",
              "0        1627776001  For the first time since 2017 Bitcoin closed a...   \n",
              "1        1627776002  Tokemon is the next CryptoZoon, Axie Infinity,...   \n",
              "2        1627776013          Monthly Skeptics Discussion - August 2021   \n",
              "3        1627776014          Daily Discussion - August 1, 2021 (GMT+0)   \n",
              "4        1627776063  🐕BabyShibaXRP 💵 ! 160K MarketCap | PooCoin ads...   \n",
              "...             ...                                                ...   \n",
              "121897   1630454225  🛡️Viking-Doge just Fair launched🚀 and is setti...   \n",
              "121898   1630454257  El Salvador Set For Bitcoin Rollout With 200 A...   \n",
              "121899   1630454262  A financial recession will end up being the be...   \n",
              "121900   1630454295  The only two rules you need to know which made...   \n",
              "121901   1630454394  🌍Next Generation Safe Token with $Cake Rewards...   \n",
              "\n",
              "                                                 selftext  \\\n",
              "0       So the last time something like this happened ...   \n",
              "1       Links:\\n\\nWebsite: https://Tokemon3d.com\\n\\nTe...   \n",
              "2       Welcome to the Monthly Skeptics Discussion thr...   \n",
              "3       **Welcome to the Daily Discussion. Please read...   \n",
              "4       🐕BabyShibaXRP 💵 ! 160K MarketCap | PooCoin ads...   \n",
              "...                                                   ...   \n",
              "121897  🛡️Viking-Doge just Fair launched🚀 and is setti...   \n",
              "121898                                                NaN   \n",
              "121899  I made a post earlier asking what people thoug...   \n",
              "121900  1. Never tell anyone all your secrets.\\n\\n\\nYo...   \n",
              "121901  ⚜️ 𝓟𝓻𝓸𝓶𝓮𝓽𝓱𝓮𝓾𝓼 ⚜️\\n\\n&amp;#x200B;\\n\\n&amp;#x200...   \n",
              "\n",
              "                                                permalink  \\\n",
              "0       https://old.reddit.com/r/CryptoCurrency/commen...   \n",
              "1       https://old.reddit.com/r/CryptoMoonShots/comme...   \n",
              "2       https://old.reddit.com/r/CryptoCurrency/commen...   \n",
              "3       https://old.reddit.com/r/CryptoCurrency/commen...   \n",
              "4       https://old.reddit.com/r/CryptoMoon/comments/o...   \n",
              "...                                                   ...   \n",
              "121897  https://old.reddit.com/r/CryptoMars/comments/p...   \n",
              "121898  https://old.reddit.com/r/CryptoCurrency/commen...   \n",
              "121899  https://old.reddit.com/r/CryptoCurrency/commen...   \n",
              "121900  https://old.reddit.com/r/CryptoCurrency/commen...   \n",
              "121901  https://old.reddit.com/r/CryptoMoonShots/comme...   \n",
              "\n",
              "                                                     body  \n",
              "0       first time since 2017 bitcoin closed red candl...  \n",
              "1       tokemon next cryptozoon, axie infinity, fully ...  \n",
              "2       monthly skeptics discussion - august 2021. wel...  \n",
              "3       daily discussion - august 1, 2021 . **welcome ...  \n",
              "4       🐕babyshibaxrp 💵 ! 160k marketcap | poocoin ads...  \n",
              "...                                                   ...  \n",
              "121897  🛡️viking-doge fair launched🚀 setting sail ⛵on ...  \n",
              "121898                                                nan  \n",
              "121899  financial recession end best thing possible cr...  \n",
              "121900  two rules need know made financially independe...  \n",
              "121901  🌍next generation safe token $cake rewards - 🎈$...  \n",
              "\n",
              "[121902 rows x 5 columns]"
            ],
            "text/html": [
              "\n",
              "  <div id=\"df-e7c1a503-ae6f-4902-9ed4-3522db068148\">\n",
              "    <div class=\"colab-df-container\">\n",
              "      <div>\n",
              "<style scoped>\n",
              "    .dataframe tbody tr th:only-of-type {\n",
              "        vertical-align: middle;\n",
              "    }\n",
              "\n",
              "    .dataframe tbody tr th {\n",
              "        vertical-align: top;\n",
              "    }\n",
              "\n",
              "    .dataframe thead th {\n",
              "        text-align: right;\n",
              "    }\n",
              "</style>\n",
              "<table border=\"1\" class=\"dataframe\">\n",
              "  <thead>\n",
              "    <tr style=\"text-align: right;\">\n",
              "      <th></th>\n",
              "      <th>created_utc</th>\n",
              "      <th>title</th>\n",
              "      <th>selftext</th>\n",
              "      <th>permalink</th>\n",
              "      <th>body</th>\n",
              "    </tr>\n",
              "  </thead>\n",
              "  <tbody>\n",
              "    <tr>\n",
              "      <th>0</th>\n",
              "      <td>1627776001</td>\n",
              "      <td>For the first time since 2017 Bitcoin closed a...</td>\n",
              "      <td>So the last time something like this happened ...</td>\n",
              "      <td>https://old.reddit.com/r/CryptoCurrency/commen...</td>\n",
              "      <td>first time since 2017 bitcoin closed red candl...</td>\n",
              "    </tr>\n",
              "    <tr>\n",
              "      <th>1</th>\n",
              "      <td>1627776002</td>\n",
              "      <td>Tokemon is the next CryptoZoon, Axie Infinity,...</td>\n",
              "      <td>Links:\\n\\nWebsite: https://Tokemon3d.com\\n\\nTe...</td>\n",
              "      <td>https://old.reddit.com/r/CryptoMoonShots/comme...</td>\n",
              "      <td>tokemon next cryptozoon, axie infinity, fully ...</td>\n",
              "    </tr>\n",
              "    <tr>\n",
              "      <th>2</th>\n",
              "      <td>1627776013</td>\n",
              "      <td>Monthly Skeptics Discussion - August 2021</td>\n",
              "      <td>Welcome to the Monthly Skeptics Discussion thr...</td>\n",
              "      <td>https://old.reddit.com/r/CryptoCurrency/commen...</td>\n",
              "      <td>monthly skeptics discussion - august 2021. wel...</td>\n",
              "    </tr>\n",
              "    <tr>\n",
              "      <th>3</th>\n",
              "      <td>1627776014</td>\n",
              "      <td>Daily Discussion - August 1, 2021 (GMT+0)</td>\n",
              "      <td>**Welcome to the Daily Discussion. Please read...</td>\n",
              "      <td>https://old.reddit.com/r/CryptoCurrency/commen...</td>\n",
              "      <td>daily discussion - august 1, 2021 . **welcome ...</td>\n",
              "    </tr>\n",
              "    <tr>\n",
              "      <th>4</th>\n",
              "      <td>1627776063</td>\n",
              "      <td>🐕BabyShibaXRP 💵 ! 160K MarketCap | PooCoin ads...</td>\n",
              "      <td>🐕BabyShibaXRP 💵 ! 160K MarketCap | PooCoin ads...</td>\n",
              "      <td>https://old.reddit.com/r/CryptoMoon/comments/o...</td>\n",
              "      <td>🐕babyshibaxrp 💵 ! 160k marketcap | poocoin ads...</td>\n",
              "    </tr>\n",
              "    <tr>\n",
              "      <th>...</th>\n",
              "      <td>...</td>\n",
              "      <td>...</td>\n",
              "      <td>...</td>\n",
              "      <td>...</td>\n",
              "      <td>...</td>\n",
              "    </tr>\n",
              "    <tr>\n",
              "      <th>121897</th>\n",
              "      <td>1630454225</td>\n",
              "      <td>🛡️Viking-Doge just Fair launched🚀 and is setti...</td>\n",
              "      <td>🛡️Viking-Doge just Fair launched🚀 and is setti...</td>\n",
              "      <td>https://old.reddit.com/r/CryptoMars/comments/p...</td>\n",
              "      <td>🛡️viking-doge fair launched🚀 setting sail ⛵on ...</td>\n",
              "    </tr>\n",
              "    <tr>\n",
              "      <th>121898</th>\n",
              "      <td>1630454257</td>\n",
              "      <td>El Salvador Set For Bitcoin Rollout With 200 A...</td>\n",
              "      <td>NaN</td>\n",
              "      <td>https://old.reddit.com/r/CryptoCurrency/commen...</td>\n",
              "      <td>nan</td>\n",
              "    </tr>\n",
              "    <tr>\n",
              "      <th>121899</th>\n",
              "      <td>1630454262</td>\n",
              "      <td>A financial recession will end up being the be...</td>\n",
              "      <td>I made a post earlier asking what people thoug...</td>\n",
              "      <td>https://old.reddit.com/r/CryptoCurrency/commen...</td>\n",
              "      <td>financial recession end best thing possible cr...</td>\n",
              "    </tr>\n",
              "    <tr>\n",
              "      <th>121900</th>\n",
              "      <td>1630454295</td>\n",
              "      <td>The only two rules you need to know which made...</td>\n",
              "      <td>1. Never tell anyone all your secrets.\\n\\n\\nYo...</td>\n",
              "      <td>https://old.reddit.com/r/CryptoCurrency/commen...</td>\n",
              "      <td>two rules need know made financially independe...</td>\n",
              "    </tr>\n",
              "    <tr>\n",
              "      <th>121901</th>\n",
              "      <td>1630454394</td>\n",
              "      <td>🌍Next Generation Safe Token with $Cake Rewards...</td>\n",
              "      <td>⚜️ 𝓟𝓻𝓸𝓶𝓮𝓽𝓱𝓮𝓾𝓼 ⚜️\\n\\n&amp;amp;#x200B;\\n\\n&amp;amp;#x200...</td>\n",
              "      <td>https://old.reddit.com/r/CryptoMoonShots/comme...</td>\n",
              "      <td>🌍next generation safe token $cake rewards - 🎈$...</td>\n",
              "    </tr>\n",
              "  </tbody>\n",
              "</table>\n",
              "<p>121902 rows × 5 columns</p>\n",
              "</div>\n",
              "      <button class=\"colab-df-convert\" onclick=\"convertToInteractive('df-e7c1a503-ae6f-4902-9ed4-3522db068148')\"\n",
              "              title=\"Convert this dataframe to an interactive table.\"\n",
              "              style=\"display:none;\">\n",
              "        \n",
              "  <svg xmlns=\"http://www.w3.org/2000/svg\" height=\"24px\"viewBox=\"0 0 24 24\"\n",
              "       width=\"24px\">\n",
              "    <path d=\"M0 0h24v24H0V0z\" fill=\"none\"/>\n",
              "    <path d=\"M18.56 5.44l.94 2.06.94-2.06 2.06-.94-2.06-.94-.94-2.06-.94 2.06-2.06.94zm-11 1L8.5 8.5l.94-2.06 2.06-.94-2.06-.94L8.5 2.5l-.94 2.06-2.06.94zm10 10l.94 2.06.94-2.06 2.06-.94-2.06-.94-.94-2.06-.94 2.06-2.06.94z\"/><path d=\"M17.41 7.96l-1.37-1.37c-.4-.4-.92-.59-1.43-.59-.52 0-1.04.2-1.43.59L10.3 9.45l-7.72 7.72c-.78.78-.78 2.05 0 2.83L4 21.41c.39.39.9.59 1.41.59.51 0 1.02-.2 1.41-.59l7.78-7.78 2.81-2.81c.8-.78.8-2.07 0-2.86zM5.41 20L4 18.59l7.72-7.72 1.47 1.35L5.41 20z\"/>\n",
              "  </svg>\n",
              "      </button>\n",
              "      \n",
              "  <style>\n",
              "    .colab-df-container {\n",
              "      display:flex;\n",
              "      flex-wrap:wrap;\n",
              "      gap: 12px;\n",
              "    }\n",
              "\n",
              "    .colab-df-convert {\n",
              "      background-color: #E8F0FE;\n",
              "      border: none;\n",
              "      border-radius: 50%;\n",
              "      cursor: pointer;\n",
              "      display: none;\n",
              "      fill: #1967D2;\n",
              "      height: 32px;\n",
              "      padding: 0 0 0 0;\n",
              "      width: 32px;\n",
              "    }\n",
              "\n",
              "    .colab-df-convert:hover {\n",
              "      background-color: #E2EBFA;\n",
              "      box-shadow: 0px 1px 2px rgba(60, 64, 67, 0.3), 0px 1px 3px 1px rgba(60, 64, 67, 0.15);\n",
              "      fill: #174EA6;\n",
              "    }\n",
              "\n",
              "    [theme=dark] .colab-df-convert {\n",
              "      background-color: #3B4455;\n",
              "      fill: #D2E3FC;\n",
              "    }\n",
              "\n",
              "    [theme=dark] .colab-df-convert:hover {\n",
              "      background-color: #434B5C;\n",
              "      box-shadow: 0px 1px 3px 1px rgba(0, 0, 0, 0.15);\n",
              "      filter: drop-shadow(0px 1px 2px rgba(0, 0, 0, 0.3));\n",
              "      fill: #FFFFFF;\n",
              "    }\n",
              "  </style>\n",
              "\n",
              "      <script>\n",
              "        const buttonEl =\n",
              "          document.querySelector('#df-e7c1a503-ae6f-4902-9ed4-3522db068148 button.colab-df-convert');\n",
              "        buttonEl.style.display =\n",
              "          google.colab.kernel.accessAllowed ? 'block' : 'none';\n",
              "\n",
              "        async function convertToInteractive(key) {\n",
              "          const element = document.querySelector('#df-e7c1a503-ae6f-4902-9ed4-3522db068148');\n",
              "          const dataTable =\n",
              "            await google.colab.kernel.invokeFunction('convertToInteractive',\n",
              "                                                     [key], {});\n",
              "          if (!dataTable) return;\n",
              "\n",
              "          const docLinkHtml = 'Like what you see? Visit the ' +\n",
              "            '<a target=\"_blank\" href=https://colab.research.google.com/notebooks/data_table.ipynb>data table notebook</a>'\n",
              "            + ' to learn more about interactive tables.';\n",
              "          element.innerHTML = '';\n",
              "          dataTable['output_type'] = 'display_data';\n",
              "          await google.colab.output.renderOutput(dataTable, element);\n",
              "          const docLink = document.createElement('div');\n",
              "          docLink.innerHTML = docLinkHtml;\n",
              "          element.appendChild(docLink);\n",
              "        }\n",
              "      </script>\n",
              "    </div>\n",
              "  </div>\n",
              "  "
            ]
          },
          "metadata": {},
          "execution_count": 11
        }
      ],
      "source": [
        "posts = posts.sort_values(by=['created_utc']).reset_index(drop=True)\n",
        "print(f\"Posts:  before preprocessing {len(pd_posts)} | after preprocessing {len(posts)}\")\n",
        "posts"
      ]
    },
    {
      "cell_type": "markdown",
      "metadata": {
        "id": "fC4XrzO6cd_5"
      },
      "source": [
        "#### Comments Preprocessing"
      ]
    },
    {
      "cell_type": "code",
      "execution_count": null,
      "metadata": {
        "id": "jZ_VR3-icT-3"
      },
      "outputs": [],
      "source": [
        "comments = pd_comments[[\"created_utc\", \"permalink\", \"body\", \"sentiment\"]].copy()\n",
        "comments = comments.dropna()\n",
        "comments[\"body\"] = comments[\"body\"].str.lower()\n",
        "comments = comments.loc[comments[\"body\"].apply(lambda x: is_desired_phrase(str(x)))]"
      ]
    },
    {
      "cell_type": "code",
      "execution_count": null,
      "metadata": {
        "id": "AlBvvXLYEC1u"
      },
      "outputs": [],
      "source": [
        "# text preprocesing: We don't do sentiment analysis on comments since there's already sentiment score\n",
        "#for filter in preprocessing_pipeline:\n",
        "#  comments['body'] = comments[\"body\"].apply(lambda x: filter(x))"
      ]
    },
    {
      "cell_type": "code",
      "execution_count": null,
      "metadata": {
        "colab": {
          "base_uri": "https://localhost:8080/",
          "height": 661
        },
        "id": "pSkOkWohEytJ",
        "outputId": "9b4d39b3-b6df-47d9-dc76-c9fe25ccd279"
      },
      "outputs": [
        {
          "name": "stdout",
          "output_type": "stream",
          "text": [
            "Comments:  before preprocessing 3756097 | after preprocessing 2755329\n"
          ]
        },
        {
          "data": {
            "text/html": [
              "\n",
              "  <div id=\"df-974b4882-7946-42f3-82ed-a1d036e2716f\">\n",
              "    <div class=\"colab-df-container\">\n",
              "      <div>\n",
              "<style scoped>\n",
              "    .dataframe tbody tr th:only-of-type {\n",
              "        vertical-align: middle;\n",
              "    }\n",
              "\n",
              "    .dataframe tbody tr th {\n",
              "        vertical-align: top;\n",
              "    }\n",
              "\n",
              "    .dataframe thead th {\n",
              "        text-align: right;\n",
              "    }\n",
              "</style>\n",
              "<table border=\"1\" class=\"dataframe\">\n",
              "  <thead>\n",
              "    <tr style=\"text-align: right;\">\n",
              "      <th></th>\n",
              "      <th>created_utc</th>\n",
              "      <th>permalink</th>\n",
              "      <th>body</th>\n",
              "      <th>sentiment</th>\n",
              "    </tr>\n",
              "  </thead>\n",
              "  <tbody>\n",
              "    <tr>\n",
              "      <th>0</th>\n",
              "      <td>1627776002</td>\n",
              "      <td>https://old.reddit.com/r/CryptoMoonShots/comme...</td>\n",
              "      <td>be sure to do your own diligence. assume that ...</td>\n",
              "      <td>0.1531</td>\n",
              "    </tr>\n",
              "    <tr>\n",
              "      <th>1</th>\n",
              "      <td>1627776002</td>\n",
              "      <td>https://old.reddit.com/r/CryptoCurrency/commen...</td>\n",
              "      <td>don't worry, if you buy high sell low, you can...</td>\n",
              "      <td>-0.2201</td>\n",
              "    </tr>\n",
              "    <tr>\n",
              "      <th>2</th>\n",
              "      <td>1627776003</td>\n",
              "      <td>https://old.reddit.com/r/CryptoCurrency/commen...</td>\n",
              "      <td>looks like we are closing green on eth and red...</td>\n",
              "      <td>0.8126</td>\n",
              "    </tr>\n",
              "    <tr>\n",
              "      <th>3</th>\n",
              "      <td>1627776003</td>\n",
              "      <td>https://old.reddit.com/r/CryptoCurrency/commen...</td>\n",
              "      <td>it lowers the base fee, doesn’t mean it’s fixe...</td>\n",
              "      <td>-0.1280</td>\n",
              "    </tr>\n",
              "    <tr>\n",
              "      <th>4</th>\n",
              "      <td>1627776006</td>\n",
              "      <td>https://old.reddit.com/r/CryptoCurrency/commen...</td>\n",
              "      <td>* **bitcoin [pros](https://old.reddit.com/r/cr...</td>\n",
              "      <td>0.8385</td>\n",
              "    </tr>\n",
              "    <tr>\n",
              "      <th>...</th>\n",
              "      <td>...</td>\n",
              "      <td>...</td>\n",
              "      <td>...</td>\n",
              "      <td>...</td>\n",
              "    </tr>\n",
              "    <tr>\n",
              "      <th>2755324</th>\n",
              "      <td>1630454392</td>\n",
              "      <td>https://old.reddit.com/r/CryptoCurrency/commen...</td>\n",
              "      <td>i have coinbase debit and blockfi credit card</td>\n",
              "      <td>0.3818</td>\n",
              "    </tr>\n",
              "    <tr>\n",
              "      <th>2755325</th>\n",
              "      <td>1630454393</td>\n",
              "      <td>https://old.reddit.com/r/CryptoCurrency/commen...</td>\n",
              "      <td>so this time it is financial advice…nice</td>\n",
              "      <td>0.0000</td>\n",
              "    </tr>\n",
              "    <tr>\n",
              "      <th>2755326</th>\n",
              "      <td>1630454394</td>\n",
              "      <td>https://old.reddit.com/r/CryptoMoonShots/comme...</td>\n",
              "      <td>be sure to do your own diligence. assume that ...</td>\n",
              "      <td>0.8885</td>\n",
              "    </tr>\n",
              "    <tr>\n",
              "      <th>2755327</th>\n",
              "      <td>1630454396</td>\n",
              "      <td>https://old.reddit.com/r/CryptoCurrency/commen...</td>\n",
              "      <td>i don’t see why it couldn’t</td>\n",
              "      <td>0.0000</td>\n",
              "    </tr>\n",
              "    <tr>\n",
              "      <th>2755328</th>\n",
              "      <td>1630454398</td>\n",
              "      <td>https://old.reddit.com/r/CryptoCurrency/commen...</td>\n",
              "      <td>last ditch efforts\\n\\n![gif](giphy|ls9oadufia0...</td>\n",
              "      <td>0.0000</td>\n",
              "    </tr>\n",
              "  </tbody>\n",
              "</table>\n",
              "<p>2755329 rows × 4 columns</p>\n",
              "</div>\n",
              "      <button class=\"colab-df-convert\" onclick=\"convertToInteractive('df-974b4882-7946-42f3-82ed-a1d036e2716f')\"\n",
              "              title=\"Convert this dataframe to an interactive table.\"\n",
              "              style=\"display:none;\">\n",
              "        \n",
              "  <svg xmlns=\"http://www.w3.org/2000/svg\" height=\"24px\"viewBox=\"0 0 24 24\"\n",
              "       width=\"24px\">\n",
              "    <path d=\"M0 0h24v24H0V0z\" fill=\"none\"/>\n",
              "    <path d=\"M18.56 5.44l.94 2.06.94-2.06 2.06-.94-2.06-.94-.94-2.06-.94 2.06-2.06.94zm-11 1L8.5 8.5l.94-2.06 2.06-.94-2.06-.94L8.5 2.5l-.94 2.06-2.06.94zm10 10l.94 2.06.94-2.06 2.06-.94-2.06-.94-.94-2.06-.94 2.06-2.06.94z\"/><path d=\"M17.41 7.96l-1.37-1.37c-.4-.4-.92-.59-1.43-.59-.52 0-1.04.2-1.43.59L10.3 9.45l-7.72 7.72c-.78.78-.78 2.05 0 2.83L4 21.41c.39.39.9.59 1.41.59.51 0 1.02-.2 1.41-.59l7.78-7.78 2.81-2.81c.8-.78.8-2.07 0-2.86zM5.41 20L4 18.59l7.72-7.72 1.47 1.35L5.41 20z\"/>\n",
              "  </svg>\n",
              "      </button>\n",
              "      \n",
              "  <style>\n",
              "    .colab-df-container {\n",
              "      display:flex;\n",
              "      flex-wrap:wrap;\n",
              "      gap: 12px;\n",
              "    }\n",
              "\n",
              "    .colab-df-convert {\n",
              "      background-color: #E8F0FE;\n",
              "      border: none;\n",
              "      border-radius: 50%;\n",
              "      cursor: pointer;\n",
              "      display: none;\n",
              "      fill: #1967D2;\n",
              "      height: 32px;\n",
              "      padding: 0 0 0 0;\n",
              "      width: 32px;\n",
              "    }\n",
              "\n",
              "    .colab-df-convert:hover {\n",
              "      background-color: #E2EBFA;\n",
              "      box-shadow: 0px 1px 2px rgba(60, 64, 67, 0.3), 0px 1px 3px 1px rgba(60, 64, 67, 0.15);\n",
              "      fill: #174EA6;\n",
              "    }\n",
              "\n",
              "    [theme=dark] .colab-df-convert {\n",
              "      background-color: #3B4455;\n",
              "      fill: #D2E3FC;\n",
              "    }\n",
              "\n",
              "    [theme=dark] .colab-df-convert:hover {\n",
              "      background-color: #434B5C;\n",
              "      box-shadow: 0px 1px 3px 1px rgba(0, 0, 0, 0.15);\n",
              "      filter: drop-shadow(0px 1px 2px rgba(0, 0, 0, 0.3));\n",
              "      fill: #FFFFFF;\n",
              "    }\n",
              "  </style>\n",
              "\n",
              "      <script>\n",
              "        const buttonEl =\n",
              "          document.querySelector('#df-974b4882-7946-42f3-82ed-a1d036e2716f button.colab-df-convert');\n",
              "        buttonEl.style.display =\n",
              "          google.colab.kernel.accessAllowed ? 'block' : 'none';\n",
              "\n",
              "        async function convertToInteractive(key) {\n",
              "          const element = document.querySelector('#df-974b4882-7946-42f3-82ed-a1d036e2716f');\n",
              "          const dataTable =\n",
              "            await google.colab.kernel.invokeFunction('convertToInteractive',\n",
              "                                                     [key], {});\n",
              "          if (!dataTable) return;\n",
              "\n",
              "          const docLinkHtml = 'Like what you see? Visit the ' +\n",
              "            '<a target=\"_blank\" href=https://colab.research.google.com/notebooks/data_table.ipynb>data table notebook</a>'\n",
              "            + ' to learn more about interactive tables.';\n",
              "          element.innerHTML = '';\n",
              "          dataTable['output_type'] = 'display_data';\n",
              "          await google.colab.output.renderOutput(dataTable, element);\n",
              "          const docLink = document.createElement('div');\n",
              "          docLink.innerHTML = docLinkHtml;\n",
              "          element.appendChild(docLink);\n",
              "        }\n",
              "      </script>\n",
              "    </div>\n",
              "  </div>\n",
              "  "
            ],
            "text/plain": [
              "         created_utc  ... sentiment\n",
              "0         1627776002  ...    0.1531\n",
              "1         1627776002  ...   -0.2201\n",
              "2         1627776003  ...    0.8126\n",
              "3         1627776003  ...   -0.1280\n",
              "4         1627776006  ...    0.8385\n",
              "...              ...  ...       ...\n",
              "2755324   1630454392  ...    0.3818\n",
              "2755325   1630454393  ...    0.0000\n",
              "2755326   1630454394  ...    0.8885\n",
              "2755327   1630454396  ...    0.0000\n",
              "2755328   1630454398  ...    0.0000\n",
              "\n",
              "[2755329 rows x 4 columns]"
            ]
          },
          "execution_count": 14,
          "metadata": {},
          "output_type": "execute_result"
        }
      ],
      "source": [
        "comments = comments.sort_values(by=['created_utc']).reset_index(drop=True)\n",
        "print(f\"Comments:  before preprocessing {len(pd_comments)} | after preprocessing {len(comments)}\")\n",
        "comments"
      ]
    },
    {
      "cell_type": "markdown",
      "metadata": {
        "id": "GhTDdxqLs-bz"
      },
      "source": [
        "## Sentiment analysis `(skip if file \"reddit_sentiment_august2021.csv\" exists)`"
      ]
    },
    {
      "cell_type": "code",
      "execution_count": null,
      "metadata": {
        "id": "E2SRppRBtJQ0"
      },
      "outputs": [],
      "source": [
        "reddit_sentiment = posts[[\"created_utc\", \"body\", \"permalink\"]].copy() "
      ]
    },
    {
      "cell_type": "markdown",
      "metadata": {
        "id": "73ZMMNBRhXQ6"
      },
      "source": [
        "### Bert"
      ]
    },
    {
      "cell_type": "code",
      "execution_count": null,
      "metadata": {
        "id": "3MboLydAT9R0"
      },
      "outputs": [],
      "source": [
        "!pip uninstall imgaug\n",
        "!pip install imgaug==0.4.0"
      ]
    },
    {
      "cell_type": "code",
      "execution_count": null,
      "metadata": {
        "id": "QP2HOY4BhY-7"
      },
      "outputs": [],
      "source": [
        "!pip install transformers -q gwpy"
      ]
    },
    {
      "cell_type": "code",
      "execution_count": null,
      "metadata": {
        "id": "ajgxaKAuhfH-"
      },
      "outputs": [],
      "source": [
        "from transformers import AutoTokenizer, AutoModelForSequenceClassification\n",
        "import torch"
      ]
    },
    {
      "cell_type": "code",
      "execution_count": null,
      "metadata": {
        "id": "1tucY3FKhocc"
      },
      "outputs": [],
      "source": [
        "tokenizer = AutoTokenizer.from_pretrained('nlptown/bert-base-multilingual-uncased-sentiment')\n",
        "model = AutoModelForSequenceClassification.from_pretrained('nlptown/bert-base-multilingual-uncased-sentiment')"
      ]
    },
    {
      "cell_type": "code",
      "execution_count": null,
      "metadata": {
        "id": "RY5FwIoNhqFN"
      },
      "outputs": [],
      "source": [
        "def sentiment_score(x, progress_bar):\n",
        "    tokens = tokenizer.encode(x, return_tensors='pt')\n",
        "    result = model(tokens)\n",
        "    progress_bar.value += 1\n",
        "    return int(torch.argmax(result.logits))+1"
      ]
    },
    {
      "cell_type": "code",
      "execution_count": null,
      "metadata": {
        "colab": {
          "base_uri": "https://localhost:8080/",
          "height": 49,
          "referenced_widgets": [
            "2b5cd8e2ea7844f196a06cf941cb6502",
            "6344f039b47a4483936cbac3304f2014",
            "cb5530e0cd824d4884b68b3585f0774f"
          ]
        },
        "id": "kvCa7XmshuPf",
        "outputId": "0da7a439-a8a5-42f5-cd3f-142a72092298"
      },
      "outputs": [
        {
          "data": {
            "application/vnd.jupyter.widget-view+json": {
              "model_id": "2b5cd8e2ea7844f196a06cf941cb6502",
              "version_major": 2,
              "version_minor": 0
            },
            "text/plain": [
              "IntProgress(value=0, description='Flair Sentiment Analysis: ', max=55002)"
            ]
          },
          "metadata": {},
          "output_type": "display_data"
        }
      ],
      "source": [
        "f = IntProgress(min=0, max=len(reddit_sentiment), description=\"Flair Sentiment Analysis: \") # instantiate the bar\n",
        "display(f)\n",
        "reddit_sentiment['BERT-Sentiment'] = reddit_sentiment['body'].apply(lambda x: sentiment_score(x[:512], f))"
      ]
    },
    {
      "cell_type": "code",
      "execution_count": null,
      "metadata": {
        "colab": {
          "base_uri": "https://localhost:8080/",
          "height": 17
        },
        "id": "TXFRT4d3l4N3",
        "outputId": "65c8115c-ded0-4862-af62-a398d045234c"
      },
      "outputs": [
        {
          "data": {
            "application/javascript": [
              "\n",
              "    async function download(id, filename, size) {\n",
              "      if (!google.colab.kernel.accessAllowed) {\n",
              "        return;\n",
              "      }\n",
              "      const div = document.createElement('div');\n",
              "      const label = document.createElement('label');\n",
              "      label.textContent = `Downloading \"${filename}\": `;\n",
              "      div.appendChild(label);\n",
              "      const progress = document.createElement('progress');\n",
              "      progress.max = size;\n",
              "      div.appendChild(progress);\n",
              "      document.body.appendChild(div);\n",
              "\n",
              "      const buffers = [];\n",
              "      let downloaded = 0;\n",
              "\n",
              "      const channel = await google.colab.kernel.comms.open(id);\n",
              "      // Send a message to notify the kernel that we're ready.\n",
              "      channel.send({})\n",
              "\n",
              "      for await (const message of channel.messages) {\n",
              "        // Send a message to notify the kernel that we're ready.\n",
              "        channel.send({})\n",
              "        if (message.buffers) {\n",
              "          for (const buffer of message.buffers) {\n",
              "            buffers.push(buffer);\n",
              "            downloaded += buffer.byteLength;\n",
              "            progress.value = downloaded;\n",
              "          }\n",
              "        }\n",
              "      }\n",
              "      const blob = new Blob(buffers, {type: 'application/binary'});\n",
              "      const a = document.createElement('a');\n",
              "      a.href = window.URL.createObjectURL(blob);\n",
              "      a.download = filename;\n",
              "      div.appendChild(a);\n",
              "      a.click();\n",
              "      div.remove();\n",
              "    }\n",
              "  "
            ],
            "text/plain": [
              "<IPython.core.display.Javascript object>"
            ]
          },
          "metadata": {},
          "output_type": "display_data"
        },
        {
          "data": {
            "application/javascript": [
              "download(\"download_502cf425-260b-4d9d-ab76-f53db02d3830\", \"reddit_sentiment_august2021.csv\", 60747406)"
            ],
            "text/plain": [
              "<IPython.core.display.Javascript object>"
            ]
          },
          "metadata": {},
          "output_type": "display_data"
        }
      ],
      "source": [
        "# download sentiments\n",
        "# EXECUTE ONLY WHEN WE ARE AGREE THAT ALL THE SENTIMENTS ANALYSIS ARE DONE\n",
        "from google.colab import files\n",
        "reddit_sentiment.to_csv(\"reddit_sentiment_august2021.csv\")\n",
        "files.download(\"reddit_sentiment_august2021.csv\")"
      ]
    },
    {
      "cell_type": "markdown",
      "metadata": {
        "id": "xHF-rlUytjZi"
      },
      "source": [
        "### Flair"
      ]
    },
    {
      "cell_type": "code",
      "execution_count": null,
      "metadata": {
        "id": "G8G3xYD1ts_f"
      },
      "outputs": [],
      "source": [
        "!pip install flair"
      ]
    },
    {
      "cell_type": "code",
      "execution_count": null,
      "metadata": {
        "id": "OYgnjXxwtbll"
      },
      "outputs": [],
      "source": [
        "# imports\n",
        "import flair"
      ]
    },
    {
      "cell_type": "code",
      "execution_count": null,
      "metadata": {
        "id": "4FQYes7VuAZl"
      },
      "outputs": [],
      "source": [
        "flair_sentiment = flair.models.TextClassifier.load('en-sentiment')"
      ]
    },
    {
      "cell_type": "code",
      "execution_count": null,
      "metadata": {
        "id": "LH8BShttuX-o"
      },
      "outputs": [],
      "source": [
        "# functions\n",
        "def get_sentiment_val_for_flair(sentiments):\n",
        "    \"\"\"\n",
        "    parse input of the format [NEGATIVE (0.9284018874168396)] and return +ve or -ve float value\n",
        "    :param sentiments:\n",
        "    :return:\n",
        "    \"\"\"\n",
        "    total_sentiment = str(sentiments)\n",
        "    neg = 'NEGATIVE' in total_sentiment\n",
        "    if neg:\n",
        "        total_sentiment = total_sentiment.replace('NEGATIVE', '')\n",
        "    else:\n",
        "        total_sentiment = total_sentiment.replace('POSITIVE', '')\n",
        "\n",
        "    total_sentiment = total_sentiment.replace('(', '').replace('[', '').replace(')', '').replace(']', '')\n",
        "\n",
        "    val = float(total_sentiment)\n",
        "    if neg:\n",
        "        return -val\n",
        "    return val\n",
        "\n",
        "\n",
        "def get_flair_sentiment(sentence, progress_bar):\n",
        "  flair_s = flair.data.Sentence(sentence)\n",
        "  flair_sentiment.predict(flair_s)\n",
        "  flair_total_sentiment = flair_s.labels\n",
        "  progress_bar.value += 1\n",
        "  return get_sentiment_val_for_flair(flair_total_sentiment)"
      ]
    },
    {
      "cell_type": "code",
      "execution_count": null,
      "metadata": {
        "colab": {
          "base_uri": "https://localhost:8080/",
          "height": 49,
          "referenced_widgets": [
            "a96504850f574e358cd838ea2d1dcf66",
            "723cc7a28ee646c7bb47aae98abf1336",
            "897c12c2ba814585a3c43f388b6d053e"
          ]
        },
        "id": "nwC3hTnu9CTJ",
        "outputId": "39540221-6887-4570-846b-a520bb171d18"
      },
      "outputs": [
        {
          "data": {
            "application/vnd.jupyter.widget-view+json": {
              "model_id": "a96504850f574e358cd838ea2d1dcf66",
              "version_major": 2,
              "version_minor": 0
            },
            "text/plain": [
              "IntProgress(value=0, description='Flair Sentiment Analysis: ', max=55002)"
            ]
          },
          "metadata": {},
          "output_type": "display_data"
        }
      ],
      "source": [
        "# TAKES LONG\n",
        "f = IntProgress(min=0, max=len(reddit_sentiment), description=\"Flair Sentiment Analysis: \") # instantiate the bar\n",
        "display(f)\n",
        "reddit_sentiment[\"reddit_flair\"] = reddit_sentiment[\"body\"].apply(lambda x: get_flair_sentiment(x,f))"
      ]
    },
    {
      "cell_type": "code",
      "execution_count": null,
      "metadata": {
        "colab": {
          "base_uri": "https://localhost:8080/",
          "height": 34
        },
        "id": "-nchFgp5EXoT",
        "outputId": "91d783c9-6bab-492b-be0b-2c24083abd21"
      },
      "outputs": [
        {
          "data": {
            "application/javascript": [
              "\n",
              "    async function download(id, filename, size) {\n",
              "      if (!google.colab.kernel.accessAllowed) {\n",
              "        return;\n",
              "      }\n",
              "      const div = document.createElement('div');\n",
              "      const label = document.createElement('label');\n",
              "      label.textContent = `Downloading \"${filename}\": `;\n",
              "      div.appendChild(label);\n",
              "      const progress = document.createElement('progress');\n",
              "      progress.max = size;\n",
              "      div.appendChild(progress);\n",
              "      document.body.appendChild(div);\n",
              "\n",
              "      const buffers = [];\n",
              "      let downloaded = 0;\n",
              "\n",
              "      const channel = await google.colab.kernel.comms.open(id);\n",
              "      // Send a message to notify the kernel that we're ready.\n",
              "      channel.send({})\n",
              "\n",
              "      for await (const message of channel.messages) {\n",
              "        // Send a message to notify the kernel that we're ready.\n",
              "        channel.send({})\n",
              "        if (message.buffers) {\n",
              "          for (const buffer of message.buffers) {\n",
              "            buffers.push(buffer);\n",
              "            downloaded += buffer.byteLength;\n",
              "            progress.value = downloaded;\n",
              "          }\n",
              "        }\n",
              "      }\n",
              "      const blob = new Blob(buffers, {type: 'application/binary'});\n",
              "      const a = document.createElement('a');\n",
              "      a.href = window.URL.createObjectURL(blob);\n",
              "      a.download = filename;\n",
              "      div.appendChild(a);\n",
              "      a.click();\n",
              "      div.remove();\n",
              "    }\n",
              "  "
            ],
            "text/plain": [
              "<IPython.core.display.Javascript object>"
            ]
          },
          "metadata": {},
          "output_type": "display_data"
        },
        {
          "data": {
            "application/javascript": [
              "download(\"download_792ddbfd-f3e3-448a-9a21-67f9eea75d83\", \"reddit_sentiment_august2021_flair.csv\", 61030009)"
            ],
            "text/plain": [
              "<IPython.core.display.Javascript object>"
            ]
          },
          "metadata": {},
          "output_type": "display_data"
        }
      ],
      "source": [
        "# download sentiments\n",
        "# EXECUTE ONLY WHEN WE ARE AGREE THAT ALL THE SENTIMENTS ANALYSIS ARE DONE\n",
        "from google.colab import files\n",
        "reddit_sentiment.to_csv(\"reddit_sentiment_august2021_flair.csv\")\n",
        "files.download(\"reddit_sentiment_august2021_flair.csv\")"
      ]
    },
    {
      "cell_type": "markdown",
      "metadata": {
        "id": "4xocMkbs_lNL"
      },
      "source": [
        "### TextBlob"
      ]
    },
    {
      "cell_type": "code",
      "execution_count": null,
      "metadata": {
        "id": "OGXDcINC_1s0"
      },
      "outputs": [],
      "source": [
        "# imports\n",
        "from textblob import TextBlob"
      ]
    },
    {
      "cell_type": "code",
      "execution_count": null,
      "metadata": {
        "id": "bSBHVenjATcY"
      },
      "outputs": [],
      "source": [
        "def get_textblob_sentiment(sentence, progress_bar):\n",
        "  sent = TextBlob(sentence)\n",
        "  progress_bar.value += 1\n",
        "  return sent.sentiment[0], sent.sentiment[1]"
      ]
    },
    {
      "cell_type": "code",
      "execution_count": null,
      "metadata": {
        "id": "8G6x3j63EsNz"
      },
      "outputs": [],
      "source": [
        "f = IntProgress(min=0, max=len(reddit_sentiment), description=\"TextBlob Sentiment Analysis: \") # instantiate the bar\n",
        "display(f)\n",
        "reddit_sentiment[\"tb_polarity\"], reddit_sentiment[\"tb_subjectivity\"]  = zip(*reddit_sentiment[\"body\"].apply(lambda x: get_textblob_sentiment(x,f)))"
      ]
    },
    {
      "cell_type": "markdown",
      "metadata": {
        "id": "5bDShlvvGxaa"
      },
      "source": [
        "### Sentiment Intensity Analyzer"
      ]
    },
    {
      "cell_type": "code",
      "execution_count": null,
      "metadata": {
        "id": "BMNln2hgHWpk"
      },
      "outputs": [],
      "source": [
        "!pip install vaderSentiment"
      ]
    },
    {
      "cell_type": "code",
      "execution_count": null,
      "metadata": {
        "id": "b2VS7fflHA4d"
      },
      "outputs": [],
      "source": [
        "# imports\n",
        "from vaderSentiment.vaderSentiment import SentimentIntensityAnalyzer"
      ]
    },
    {
      "cell_type": "code",
      "execution_count": null,
      "metadata": {
        "id": "h5Cx-eFOHNs7"
      },
      "outputs": [],
      "source": [
        "sia = SentimentIntensityAnalyzer()"
      ]
    },
    {
      "cell_type": "code",
      "execution_count": null,
      "metadata": {
        "id": "UREk13NdHlH7"
      },
      "outputs": [],
      "source": [
        "def get_sia_sentiment(sentence, progress_bar):\n",
        "  progress_bar.value += 1\n",
        "  polarity_scores = sia.polarity_scores(sentence)\n",
        "  return polarity_scores['pos'], polarity_scores['neg'], polarity_scores['neu'], polarity_scores['compound']\n"
      ]
    },
    {
      "cell_type": "code",
      "execution_count": null,
      "metadata": {
        "id": "g1DCmKiEID5D"
      },
      "outputs": [],
      "source": [
        "f = IntProgress(min=0, max=len(reddit_sentiment), description=\"Intensity Sentiment Analysis: \") # instantiate the bar\n",
        "display(f)\n",
        "reddit_sentiment[\"sia_pos\"], reddit_sentiment[\"sia_neg\"], reddit_sentiment[\"sia_neu\"], reddit_sentiment[\"sid_com\"]  = zip(*reddit_sentiment[\"body\"].apply(lambda x: get_sia_sentiment(x,f)))"
      ]
    },
    {
      "cell_type": "markdown",
      "metadata": {
        "id": "k0ioUcTdIwfW"
      },
      "source": [
        "### Twitter-RoBERTA-base"
      ]
    },
    {
      "cell_type": "code",
      "execution_count": null,
      "metadata": {
        "id": "0IfSb2JtKVtX"
      },
      "outputs": [],
      "source": [
        "!pip install transformers"
      ]
    },
    {
      "cell_type": "code",
      "execution_count": null,
      "metadata": {
        "id": "PsDZkv_OIvcK"
      },
      "outputs": [],
      "source": [
        "# imports\n",
        "from transformers import AutoModelForSequenceClassification\n",
        "from transformers import TFAutoModelForSequenceClassification\n",
        "from transformers import AutoTokenizer\n",
        "from scipy.special import softmax\n",
        "import csv\n",
        "import urllib.request"
      ]
    },
    {
      "cell_type": "code",
      "execution_count": null,
      "metadata": {
        "id": "2NfYTSzfKpqL"
      },
      "outputs": [],
      "source": [
        "task='emotion'\n",
        "MODEL = f\"cardiffnlp/twitter-roberta-base-{task}\"\n",
        "\n",
        "tokenizer = AutoTokenizer.from_pretrained(MODEL)\n",
        "model = TFAutoModelForSequenceClassification.from_pretrained(MODEL)"
      ]
    },
    {
      "cell_type": "code",
      "execution_count": null,
      "metadata": {
        "id": "UJFuwonKNqvC"
      },
      "outputs": [],
      "source": [
        "def get_roberta_sentiment(sentence, progress_bar):\n",
        "  if(len(sentence)> 625):\n",
        "    sentence = sentence[:625]\n",
        "  encoded_input = tokenizer(sentence, return_tensors='tf')\n",
        "  output = model(encoded_input)\n",
        "  scores = output[0][0].numpy()\n",
        "  scores = softmax(scores)\n",
        "  progress_bar.value += 1\n",
        "  return scores[0], scores[1], scores[2], scores[3]"
      ]
    },
    {
      "cell_type": "code",
      "execution_count": null,
      "metadata": {
        "id": "SGehrCKROXWw"
      },
      "outputs": [],
      "source": [
        "# TAKES LONG\n",
        "f = IntProgress(min=0, max=len(reddit_sentiment), description=\"RoBERTa: \") # instantiate the bar\n",
        "display(f)\n",
        "reddit_sentiment[\"anger\"], reddit_sentiment[\"joy\"], reddit_sentiment[\"optimism\"], reddit_sentiment[\"sadness\"]  = zip(*reddit_sentiment[\"body\"].apply(lambda x: get_roberta_sentiment(x,f)))"
      ]
    },
    {
      "cell_type": "code",
      "execution_count": null,
      "metadata": {
        "id": "yjRfUEMmL8f6"
      },
      "outputs": [],
      "source": [
        "# download sentiments\n",
        "# EXECUTE ONLY WHEN WE ARE AGREE THAT ALL THE SENTIMENTS ANALYSIS ARE DONE\n",
        "from google.colab import files\n",
        "reddit_sentiment.to_csv(\"reddit_sentiment_august2021_roberta.csv\")\n",
        "files.download(\"reddit_sentiment_august2021_roberta.csv\")"
      ]
    },
    {
      "cell_type": "code",
      "execution_count": null,
      "metadata": {
        "id": "dRNMaD1vjcu0"
      },
      "outputs": [],
      "source": [
        "#merging BERT sentiment with rest of the sentiments \n",
        "posts = pd.read_csv('Bert-Sentiment.csv')\n",
        "reddit_sentiment = pd.merge(reddit_sentiment, posts, on='created_utc')"
      ]
    },
    {
      "cell_type": "markdown",
      "metadata": {
        "id": "Ay04pfbZvl5o"
      },
      "source": [
        "### Comments avarage in file sentiment"
      ]
    },
    {
      "cell_type": "code",
      "execution_count": null,
      "metadata": {
        "id": "MXsVBGiyvvKy"
      },
      "outputs": [],
      "source": [
        "def get_avarage_comment_sentiment(permalink, progress_bar):\n",
        "  comments_sentiment_avg = 0\n",
        "  the_comments_sentiments = comments.loc[pd_comments['permalink'].str.startswith(permalink)]['sentiment'].to_numpy()\n",
        "  if (len(the_comments_sentiments)>0):\n",
        "    comments_sentiment_avg = np.nanmean(the_comments_sentiments)\n",
        "\n",
        "  progress_bar.value += 1\n",
        "  return comments_sentiment_avg\n"
      ]
    },
    {
      "cell_type": "code",
      "execution_count": null,
      "metadata": {
        "id": "IDxbDE66xDsy"
      },
      "outputs": [],
      "source": [
        "# TAKES LONG\n",
        "# Maybe better if we do groupby object and do the search on that\n",
        "f = IntProgress(min=0, max=len(reddit_sentiment), description=\"Comments: \") # instantiate the bar\n",
        "display(f)\n",
        "reddit_sentiment[\"comments_sentiment\"]  = reddit_sentiment[\"permalink\"].apply(lambda x: get_avarage_comment_sentiment(x,f))"
      ]
    },
    {
      "cell_type": "markdown",
      "metadata": {
        "id": "RSp1-BUNQVGz"
      },
      "source": [
        "### Final view on sentiment before price prediction"
      ]
    },
    {
      "cell_type": "code",
      "execution_count": null,
      "metadata": {
        "id": "UbmNpwiYQTOf"
      },
      "outputs": [],
      "source": [
        "reddit_sentiment"
      ]
    },
    {
      "cell_type": "code",
      "execution_count": null,
      "metadata": {
        "id": "Qqye3hJf4YCc"
      },
      "outputs": [],
      "source": [
        "# download sentiments\n",
        "# EXECUTE ONLY WHEN WE ARE AGREE THAT ALL THE SENTIMENTS ANALYSIS ARE DONE\n",
        "from google.colab import files\n",
        "reddit_sentiment.to_csv(\"reddit_sentiment_august2021.csv\")\n",
        "files.download(\"reddit_sentiment_august2021.csv\")"
      ]
    },
    {
      "cell_type": "markdown",
      "metadata": {
        "id": "5cMdriVE0ld7"
      },
      "source": [
        "# BTC Price Prediction"
      ]
    },
    {
      "cell_type": "markdown",
      "metadata": {
        "id": "Bl0pMXhT1O9U"
      },
      "source": [
        "## Dataset Forming `(skip if file \"btc_reddit_sentiment_august2021.csv\" exists)`"
      ]
    },
    {
      "cell_type": "code",
      "execution_count": null,
      "metadata": {
        "id": "Jqyee-Af4oWX"
      },
      "outputs": [],
      "source": [
        "# check if dataframe exists, if not download it\n",
        "try: reddit_sentiment\n",
        "except NameError: reddit_sentiment = None\n",
        "\n",
        "if reddit_sentiment is None:\n",
        "  path = \"/content/Dataset/\"\n",
        "  filename_sent = \"reddit_sentiment_august2021.csv\"\n",
        "  reddit_sentiment = pd.read_csv(path+filename_sent, index_col=0)\n"
      ]
    },
    {
      "cell_type": "code",
      "execution_count": null,
      "metadata": {
        "colab": {
          "base_uri": "https://localhost:8080/",
          "height": 852
        },
        "id": "Xl69QSLV0jvL",
        "outputId": "5b58de47-01e0-4d88-ce5c-30ff1b815a84"
      },
      "outputs": [
        {
          "data": {
            "text/html": [
              "\n",
              "  <div id=\"df-1bbdc285-7692-4a82-9d64-0b69735e12e0\">\n",
              "    <div class=\"colab-df-container\">\n",
              "      <div>\n",
              "<style scoped>\n",
              "    .dataframe tbody tr th:only-of-type {\n",
              "        vertical-align: middle;\n",
              "    }\n",
              "\n",
              "    .dataframe tbody tr th {\n",
              "        vertical-align: top;\n",
              "    }\n",
              "\n",
              "    .dataframe thead th {\n",
              "        text-align: right;\n",
              "    }\n",
              "</style>\n",
              "<table border=\"1\" class=\"dataframe\">\n",
              "  <thead>\n",
              "    <tr style=\"text-align: right;\">\n",
              "      <th></th>\n",
              "      <th>unix</th>\n",
              "      <th>date</th>\n",
              "      <th>symbol</th>\n",
              "      <th>open</th>\n",
              "      <th>high</th>\n",
              "      <th>low</th>\n",
              "      <th>close</th>\n",
              "      <th>Volume BTC</th>\n",
              "      <th>Volume USD</th>\n",
              "    </tr>\n",
              "  </thead>\n",
              "  <tbody>\n",
              "    <tr>\n",
              "      <th>0</th>\n",
              "      <td>1641278640</td>\n",
              "      <td>2022-01-04 06:44:00</td>\n",
              "      <td>BTC/USD</td>\n",
              "      <td>46328.70</td>\n",
              "      <td>46328.70</td>\n",
              "      <td>46328.70</td>\n",
              "      <td>46328.70</td>\n",
              "      <td>0.045973</td>\n",
              "      <td>2129.878128</td>\n",
              "    </tr>\n",
              "    <tr>\n",
              "      <th>1</th>\n",
              "      <td>1641278580</td>\n",
              "      <td>2022-01-04 06:43:00</td>\n",
              "      <td>BTC/USD</td>\n",
              "      <td>46303.46</td>\n",
              "      <td>46353.20</td>\n",
              "      <td>46303.46</td>\n",
              "      <td>46327.60</td>\n",
              "      <td>3.092396</td>\n",
              "      <td>143263.271495</td>\n",
              "    </tr>\n",
              "    <tr>\n",
              "      <th>2</th>\n",
              "      <td>1641278520</td>\n",
              "      <td>2022-01-04 06:42:00</td>\n",
              "      <td>BTC/USD</td>\n",
              "      <td>46335.95</td>\n",
              "      <td>46344.69</td>\n",
              "      <td>46303.46</td>\n",
              "      <td>46308.09</td>\n",
              "      <td>2.297944</td>\n",
              "      <td>106413.377191</td>\n",
              "    </tr>\n",
              "    <tr>\n",
              "      <th>3</th>\n",
              "      <td>1641278460</td>\n",
              "      <td>2022-01-04 06:41:00</td>\n",
              "      <td>BTC/USD</td>\n",
              "      <td>46322.93</td>\n",
              "      <td>46348.49</td>\n",
              "      <td>46322.93</td>\n",
              "      <td>46348.49</td>\n",
              "      <td>3.490730</td>\n",
              "      <td>161790.061717</td>\n",
              "    </tr>\n",
              "    <tr>\n",
              "      <th>4</th>\n",
              "      <td>1641278400</td>\n",
              "      <td>2022-01-04 06:40:00</td>\n",
              "      <td>BTC/USD</td>\n",
              "      <td>46347.05</td>\n",
              "      <td>46356.27</td>\n",
              "      <td>46315.57</td>\n",
              "      <td>46324.67</td>\n",
              "      <td>2.376247</td>\n",
              "      <td>110078.853018</td>\n",
              "    </tr>\n",
              "    <tr>\n",
              "      <th>...</th>\n",
              "      <td>...</td>\n",
              "      <td>...</td>\n",
              "      <td>...</td>\n",
              "      <td>...</td>\n",
              "      <td>...</td>\n",
              "      <td>...</td>\n",
              "      <td>...</td>\n",
              "      <td>...</td>\n",
              "      <td>...</td>\n",
              "    </tr>\n",
              "    <tr>\n",
              "      <th>530319</th>\n",
              "      <td>1609459500</td>\n",
              "      <td>2021-01-01 00:05:00</td>\n",
              "      <td>BTC/USD</td>\n",
              "      <td>29021.86</td>\n",
              "      <td>29023.38</td>\n",
              "      <td>28982.33</td>\n",
              "      <td>28999.50</td>\n",
              "      <td>1.062360</td>\n",
              "      <td>30807.899250</td>\n",
              "    </tr>\n",
              "    <tr>\n",
              "      <th>530320</th>\n",
              "      <td>1609459440</td>\n",
              "      <td>2021-01-01 00:04:00</td>\n",
              "      <td>BTC/USD</td>\n",
              "      <td>29048.13</td>\n",
              "      <td>29057.73</td>\n",
              "      <td>29035.61</td>\n",
              "      <td>29045.19</td>\n",
              "      <td>1.446538</td>\n",
              "      <td>42014.959434</td>\n",
              "    </tr>\n",
              "    <tr>\n",
              "      <th>530321</th>\n",
              "      <td>1609459380</td>\n",
              "      <td>2021-01-01 00:03:00</td>\n",
              "      <td>BTC/USD</td>\n",
              "      <td>29037.68</td>\n",
              "      <td>29069.39</td>\n",
              "      <td>29019.00</td>\n",
              "      <td>29048.13</td>\n",
              "      <td>2.189621</td>\n",
              "      <td>63604.382387</td>\n",
              "    </tr>\n",
              "    <tr>\n",
              "      <th>530322</th>\n",
              "      <td>1609459320</td>\n",
              "      <td>2021-01-01 00:02:00</td>\n",
              "      <td>BTC/USD</td>\n",
              "      <td>29069.80</td>\n",
              "      <td>29073.02</td>\n",
              "      <td>29028.14</td>\n",
              "      <td>29035.89</td>\n",
              "      <td>3.030301</td>\n",
              "      <td>87987.499279</td>\n",
              "    </tr>\n",
              "    <tr>\n",
              "      <th>530323</th>\n",
              "      <td>1609459260</td>\n",
              "      <td>2021-01-01 00:01:00</td>\n",
              "      <td>BTC/USD</td>\n",
              "      <td>29007.31</td>\n",
              "      <td>29086.90</td>\n",
              "      <td>29007.31</td>\n",
              "      <td>29083.47</td>\n",
              "      <td>14.561951</td>\n",
              "      <td>423512.060397</td>\n",
              "    </tr>\n",
              "  </tbody>\n",
              "</table>\n",
              "<p>530324 rows × 9 columns</p>\n",
              "</div>\n",
              "      <button class=\"colab-df-convert\" onclick=\"convertToInteractive('df-1bbdc285-7692-4a82-9d64-0b69735e12e0')\"\n",
              "              title=\"Convert this dataframe to an interactive table.\"\n",
              "              style=\"display:none;\">\n",
              "        \n",
              "  <svg xmlns=\"http://www.w3.org/2000/svg\" height=\"24px\"viewBox=\"0 0 24 24\"\n",
              "       width=\"24px\">\n",
              "    <path d=\"M0 0h24v24H0V0z\" fill=\"none\"/>\n",
              "    <path d=\"M18.56 5.44l.94 2.06.94-2.06 2.06-.94-2.06-.94-.94-2.06-.94 2.06-2.06.94zm-11 1L8.5 8.5l.94-2.06 2.06-.94-2.06-.94L8.5 2.5l-.94 2.06-2.06.94zm10 10l.94 2.06.94-2.06 2.06-.94-2.06-.94-.94-2.06-.94 2.06-2.06.94z\"/><path d=\"M17.41 7.96l-1.37-1.37c-.4-.4-.92-.59-1.43-.59-.52 0-1.04.2-1.43.59L10.3 9.45l-7.72 7.72c-.78.78-.78 2.05 0 2.83L4 21.41c.39.39.9.59 1.41.59.51 0 1.02-.2 1.41-.59l7.78-7.78 2.81-2.81c.8-.78.8-2.07 0-2.86zM5.41 20L4 18.59l7.72-7.72 1.47 1.35L5.41 20z\"/>\n",
              "  </svg>\n",
              "      </button>\n",
              "      \n",
              "  <style>\n",
              "    .colab-df-container {\n",
              "      display:flex;\n",
              "      flex-wrap:wrap;\n",
              "      gap: 12px;\n",
              "    }\n",
              "\n",
              "    .colab-df-convert {\n",
              "      background-color: #E8F0FE;\n",
              "      border: none;\n",
              "      border-radius: 50%;\n",
              "      cursor: pointer;\n",
              "      display: none;\n",
              "      fill: #1967D2;\n",
              "      height: 32px;\n",
              "      padding: 0 0 0 0;\n",
              "      width: 32px;\n",
              "    }\n",
              "\n",
              "    .colab-df-convert:hover {\n",
              "      background-color: #E2EBFA;\n",
              "      box-shadow: 0px 1px 2px rgba(60, 64, 67, 0.3), 0px 1px 3px 1px rgba(60, 64, 67, 0.15);\n",
              "      fill: #174EA6;\n",
              "    }\n",
              "\n",
              "    [theme=dark] .colab-df-convert {\n",
              "      background-color: #3B4455;\n",
              "      fill: #D2E3FC;\n",
              "    }\n",
              "\n",
              "    [theme=dark] .colab-df-convert:hover {\n",
              "      background-color: #434B5C;\n",
              "      box-shadow: 0px 1px 3px 1px rgba(0, 0, 0, 0.15);\n",
              "      filter: drop-shadow(0px 1px 2px rgba(0, 0, 0, 0.3));\n",
              "      fill: #FFFFFF;\n",
              "    }\n",
              "  </style>\n",
              "\n",
              "      <script>\n",
              "        const buttonEl =\n",
              "          document.querySelector('#df-1bbdc285-7692-4a82-9d64-0b69735e12e0 button.colab-df-convert');\n",
              "        buttonEl.style.display =\n",
              "          google.colab.kernel.accessAllowed ? 'block' : 'none';\n",
              "\n",
              "        async function convertToInteractive(key) {\n",
              "          const element = document.querySelector('#df-1bbdc285-7692-4a82-9d64-0b69735e12e0');\n",
              "          const dataTable =\n",
              "            await google.colab.kernel.invokeFunction('convertToInteractive',\n",
              "                                                     [key], {});\n",
              "          if (!dataTable) return;\n",
              "\n",
              "          const docLinkHtml = 'Like what you see? Visit the ' +\n",
              "            '<a target=\"_blank\" href=https://colab.research.google.com/notebooks/data_table.ipynb>data table notebook</a>'\n",
              "            + ' to learn more about interactive tables.';\n",
              "          element.innerHTML = '';\n",
              "          dataTable['output_type'] = 'display_data';\n",
              "          await google.colab.output.renderOutput(dataTable, element);\n",
              "          const docLink = document.createElement('div');\n",
              "          docLink.innerHTML = docLinkHtml;\n",
              "          element.appendChild(docLink);\n",
              "        }\n",
              "      </script>\n",
              "    </div>\n",
              "  </div>\n",
              "  "
            ],
            "text/plain": [
              "              unix                 date  ... Volume BTC     Volume USD\n",
              "0       1641278640  2022-01-04 06:44:00  ...   0.045973    2129.878128\n",
              "1       1641278580  2022-01-04 06:43:00  ...   3.092396  143263.271495\n",
              "2       1641278520  2022-01-04 06:42:00  ...   2.297944  106413.377191\n",
              "3       1641278460  2022-01-04 06:41:00  ...   3.490730  161790.061717\n",
              "4       1641278400  2022-01-04 06:40:00  ...   2.376247  110078.853018\n",
              "...            ...                  ...  ...        ...            ...\n",
              "530319  1609459500  2021-01-01 00:05:00  ...   1.062360   30807.899250\n",
              "530320  1609459440  2021-01-01 00:04:00  ...   1.446538   42014.959434\n",
              "530321  1609459380  2021-01-01 00:03:00  ...   2.189621   63604.382387\n",
              "530322  1609459320  2021-01-01 00:02:00  ...   3.030301   87987.499279\n",
              "530323  1609459260  2021-01-01 00:01:00  ...  14.561951  423512.060397\n",
              "\n",
              "[530324 rows x 9 columns]"
            ]
          },
          "execution_count": 10,
          "metadata": {},
          "output_type": "execute_result"
        }
      ],
      "source": [
        "# price dataframe\n",
        "path = \"/content/Dataset/\"\n",
        "filename_BTC = \"Bitstamp_BTCUSD_2021_minute.csv\"\n",
        "pd_BTC_price = pd.read_csv(path+filename_BTC)\n",
        "pd_BTC_price"
      ]
    },
    {
      "cell_type": "code",
      "execution_count": null,
      "metadata": {
        "id": "de_qRbnt2D6p"
      },
      "outputs": [],
      "source": [
        "# reduce dataframe to the timelimits of reddit posts\n",
        "first_date = reddit_sentiment[\"created_utc\"][0]\n",
        "last_date = reddit_sentiment.iloc[-1][[\"created_utc\"]][0] + 3600\n",
        "btc_sentiment = pd_BTC_price.loc[pd_BTC_price[\"unix\"].between(first_date, last_date)]\n",
        "btc_sentiment = btc_sentiment[[\"unix\", \"date\", \"open\", \"high\", \"low\", \"close\", \"Volume BTC\"]].copy()\n",
        "btc_sentiment = btc_sentiment.sort_values(by=['unix'])\n",
        "btc_sentiment.reset_index(drop=True, inplace=True)"
      ]
    },
    {
      "cell_type": "code",
      "execution_count": null,
      "metadata": {
        "id": "Iyk4jGcV3hbz"
      },
      "outputs": [],
      "source": [
        "# mergin \n",
        "sentiment_look_back = 3600 #seconds\n",
        "\n",
        "# calculates mean value for each semtiment in last 'sentiment_look_back' time\n",
        "def mean_sentiment_per_time(timestamp):\n",
        "  return reddit_sentiment[reddit_sentiment['created_utc'].between(timestamp-sentiment_look_back, timestamp)].drop([\"created_utc\",\t\"body\",\t\"permalink\"], axis=1).sum()\n",
        "\n",
        "btc_sentiment = pd.concat([btc_sentiment,btc_sentiment['unix'].apply(lambda x: mean_sentiment_per_time(x))], axis=1)"
      ]
    },
    {
      "cell_type": "code",
      "execution_count": null,
      "metadata": {
        "id": "NsIn36XkteZ2"
      },
      "outputs": [],
      "source": [
        "# target\n",
        "price_look_forward = 3600 #seconds\n",
        "\n",
        "def get_target_price(timestamp):\n",
        "  price = 0\n",
        "  target_time = timestamp + price_look_forward\n",
        "  prices = btc_sentiment[btc_sentiment['unix']==target_time]['close'].values\n",
        "  \n",
        "  if len(prices) > 0:\n",
        "    price = prices[0]\n",
        "  return price\n",
        "\n",
        "\n",
        "# set target price to a 'close' in a 'price_look_forward' time. This works only if difference in 'unix' is multiple of 'price_look_forward'\n",
        "btc_sentiment[\"target_price\"] = btc_sentiment['unix'].apply(lambda x: get_target_price(x))\n",
        "btc_sentiment = btc_sentiment[btc_sentiment['target_price'] != 0] # delete last hour of rows since there is no target price"
      ]
    },
    {
      "cell_type": "code",
      "execution_count": null,
      "metadata": {
        "colab": {
          "base_uri": "https://localhost:8080/",
          "height": 505
        },
        "id": "3g9Bvz_jpNrV",
        "outputId": "9664fe9a-0061-4127-d3c6-d082623f6664"
      },
      "outputs": [
        {
          "data": {
            "text/html": [
              "\n",
              "  <div id=\"df-5bbc78f8-c65f-4c08-89ac-0d0270743b82\">\n",
              "    <div class=\"colab-df-container\">\n",
              "      <div>\n",
              "<style scoped>\n",
              "    .dataframe tbody tr th:only-of-type {\n",
              "        vertical-align: middle;\n",
              "    }\n",
              "\n",
              "    .dataframe tbody tr th {\n",
              "        vertical-align: top;\n",
              "    }\n",
              "\n",
              "    .dataframe thead th {\n",
              "        text-align: right;\n",
              "    }\n",
              "</style>\n",
              "<table border=\"1\" class=\"dataframe\">\n",
              "  <thead>\n",
              "    <tr style=\"text-align: right;\">\n",
              "      <th></th>\n",
              "      <th>open</th>\n",
              "      <th>high</th>\n",
              "      <th>low</th>\n",
              "      <th>close</th>\n",
              "      <th>Volume BTC</th>\n",
              "      <th>comments_sentiment</th>\n",
              "      <th>tb_polarity</th>\n",
              "      <th>tb_subjectivity</th>\n",
              "      <th>anger</th>\n",
              "      <th>joy</th>\n",
              "      <th>optimism</th>\n",
              "      <th>sadness</th>\n",
              "      <th>sia_pos</th>\n",
              "      <th>sia_neg</th>\n",
              "      <th>sia_neu</th>\n",
              "      <th>sid_com</th>\n",
              "      <th>reddit_flair</th>\n",
              "      <th>BERT-Sentiment</th>\n",
              "      <th>target_price</th>\n",
              "    </tr>\n",
              "  </thead>\n",
              "  <tbody>\n",
              "    <tr>\n",
              "      <th>0</th>\n",
              "      <td>41454.97</td>\n",
              "      <td>41454.97</td>\n",
              "      <td>41333.49</td>\n",
              "      <td>41340.15</td>\n",
              "      <td>1.438288</td>\n",
              "      <td>0.387188</td>\n",
              "      <td>0.346008</td>\n",
              "      <td>1.737069</td>\n",
              "      <td>1.311199</td>\n",
              "      <td>1.311631</td>\n",
              "      <td>0.969636</td>\n",
              "      <td>0.407535</td>\n",
              "      <td>0.710</td>\n",
              "      <td>0.317</td>\n",
              "      <td>2.973</td>\n",
              "      <td>3.6405</td>\n",
              "      <td>-1.9125</td>\n",
              "      <td>8.0</td>\n",
              "      <td>41686.84</td>\n",
              "    </tr>\n",
              "    <tr>\n",
              "      <th>1</th>\n",
              "      <td>41336.83</td>\n",
              "      <td>41345.60</td>\n",
              "      <td>41170.00</td>\n",
              "      <td>41209.59</td>\n",
              "      <td>6.485439</td>\n",
              "      <td>0.750099</td>\n",
              "      <td>0.605440</td>\n",
              "      <td>2.248054</td>\n",
              "      <td>1.488831</td>\n",
              "      <td>2.599326</td>\n",
              "      <td>1.427218</td>\n",
              "      <td>0.484625</td>\n",
              "      <td>0.962</td>\n",
              "      <td>0.424</td>\n",
              "      <td>4.613</td>\n",
              "      <td>4.5380</td>\n",
              "      <td>-3.4282</td>\n",
              "      <td>14.0</td>\n",
              "      <td>41737.87</td>\n",
              "    </tr>\n",
              "    <tr>\n",
              "      <th>2</th>\n",
              "      <td>41209.58</td>\n",
              "      <td>41304.74</td>\n",
              "      <td>41188.99</td>\n",
              "      <td>41293.96</td>\n",
              "      <td>2.263106</td>\n",
              "      <td>0.750099</td>\n",
              "      <td>0.605440</td>\n",
              "      <td>2.248054</td>\n",
              "      <td>1.488831</td>\n",
              "      <td>2.599326</td>\n",
              "      <td>1.427218</td>\n",
              "      <td>0.484625</td>\n",
              "      <td>0.962</td>\n",
              "      <td>0.424</td>\n",
              "      <td>4.613</td>\n",
              "      <td>4.5380</td>\n",
              "      <td>-3.4282</td>\n",
              "      <td>14.0</td>\n",
              "      <td>41758.27</td>\n",
              "    </tr>\n",
              "    <tr>\n",
              "      <th>3</th>\n",
              "      <td>41338.73</td>\n",
              "      <td>41360.32</td>\n",
              "      <td>41311.20</td>\n",
              "      <td>41354.14</td>\n",
              "      <td>0.666235</td>\n",
              "      <td>0.750099</td>\n",
              "      <td>0.605440</td>\n",
              "      <td>2.248054</td>\n",
              "      <td>1.560053</td>\n",
              "      <td>3.364995</td>\n",
              "      <td>1.568254</td>\n",
              "      <td>0.506697</td>\n",
              "      <td>0.962</td>\n",
              "      <td>0.424</td>\n",
              "      <td>5.613</td>\n",
              "      <td>4.5380</td>\n",
              "      <td>-4.4216</td>\n",
              "      <td>15.0</td>\n",
              "      <td>41775.83</td>\n",
              "    </tr>\n",
              "    <tr>\n",
              "      <th>4</th>\n",
              "      <td>41386.76</td>\n",
              "      <td>41569.38</td>\n",
              "      <td>41386.76</td>\n",
              "      <td>41549.80</td>\n",
              "      <td>9.474631</td>\n",
              "      <td>0.750099</td>\n",
              "      <td>0.605440</td>\n",
              "      <td>2.248054</td>\n",
              "      <td>1.560053</td>\n",
              "      <td>3.364995</td>\n",
              "      <td>1.568254</td>\n",
              "      <td>0.506697</td>\n",
              "      <td>0.962</td>\n",
              "      <td>0.424</td>\n",
              "      <td>5.613</td>\n",
              "      <td>4.5380</td>\n",
              "      <td>-4.4216</td>\n",
              "      <td>15.0</td>\n",
              "      <td>41803.74</td>\n",
              "    </tr>\n",
              "    <tr>\n",
              "      <th>...</th>\n",
              "      <td>...</td>\n",
              "      <td>...</td>\n",
              "      <td>...</td>\n",
              "      <td>...</td>\n",
              "      <td>...</td>\n",
              "      <td>...</td>\n",
              "      <td>...</td>\n",
              "      <td>...</td>\n",
              "      <td>...</td>\n",
              "      <td>...</td>\n",
              "      <td>...</td>\n",
              "      <td>...</td>\n",
              "      <td>...</td>\n",
              "      <td>...</td>\n",
              "      <td>...</td>\n",
              "      <td>...</td>\n",
              "      <td>...</td>\n",
              "      <td>...</td>\n",
              "      <td>...</td>\n",
              "    </tr>\n",
              "    <tr>\n",
              "      <th>44634</th>\n",
              "      <td>47298.62</td>\n",
              "      <td>47298.62</td>\n",
              "      <td>47237.03</td>\n",
              "      <td>47237.03</td>\n",
              "      <td>0.246064</td>\n",
              "      <td>7.274436</td>\n",
              "      <td>13.388640</td>\n",
              "      <td>32.886596</td>\n",
              "      <td>9.604906</td>\n",
              "      <td>38.773683</td>\n",
              "      <td>10.282812</td>\n",
              "      <td>6.338598</td>\n",
              "      <td>14.336</td>\n",
              "      <td>2.374</td>\n",
              "      <td>48.287</td>\n",
              "      <td>52.8869</td>\n",
              "      <td>25.5301</td>\n",
              "      <td>195.0</td>\n",
              "      <td>46829.57</td>\n",
              "    </tr>\n",
              "    <tr>\n",
              "      <th>44635</th>\n",
              "      <td>47208.34</td>\n",
              "      <td>47218.32</td>\n",
              "      <td>47191.51</td>\n",
              "      <td>47218.32</td>\n",
              "      <td>0.521038</td>\n",
              "      <td>7.274436</td>\n",
              "      <td>13.388640</td>\n",
              "      <td>32.886596</td>\n",
              "      <td>9.604906</td>\n",
              "      <td>38.773683</td>\n",
              "      <td>10.282812</td>\n",
              "      <td>6.338598</td>\n",
              "      <td>14.336</td>\n",
              "      <td>2.374</td>\n",
              "      <td>48.287</td>\n",
              "      <td>52.8869</td>\n",
              "      <td>25.5301</td>\n",
              "      <td>195.0</td>\n",
              "      <td>46803.96</td>\n",
              "    </tr>\n",
              "    <tr>\n",
              "      <th>44636</th>\n",
              "      <td>47195.50</td>\n",
              "      <td>47195.50</td>\n",
              "      <td>47162.44</td>\n",
              "      <td>47162.44</td>\n",
              "      <td>0.010130</td>\n",
              "      <td>7.116601</td>\n",
              "      <td>13.969373</td>\n",
              "      <td>33.903519</td>\n",
              "      <td>9.540412</td>\n",
              "      <td>40.656649</td>\n",
              "      <td>10.829553</td>\n",
              "      <td>5.973385</td>\n",
              "      <td>14.832</td>\n",
              "      <td>2.445</td>\n",
              "      <td>49.718</td>\n",
              "      <td>54.8647</td>\n",
              "      <td>29.2806</td>\n",
              "      <td>197.0</td>\n",
              "      <td>46785.18</td>\n",
              "    </tr>\n",
              "    <tr>\n",
              "      <th>44637</th>\n",
              "      <td>47162.44</td>\n",
              "      <td>47181.33</td>\n",
              "      <td>47113.56</td>\n",
              "      <td>47181.33</td>\n",
              "      <td>13.401304</td>\n",
              "      <td>7.376734</td>\n",
              "      <td>14.066248</td>\n",
              "      <td>34.410736</td>\n",
              "      <td>9.958692</td>\n",
              "      <td>40.670613</td>\n",
              "      <td>10.876658</td>\n",
              "      <td>6.494036</td>\n",
              "      <td>14.969</td>\n",
              "      <td>2.558</td>\n",
              "      <td>50.468</td>\n",
              "      <td>55.3871</td>\n",
              "      <td>28.2807</td>\n",
              "      <td>198.0</td>\n",
              "      <td>46780.11</td>\n",
              "    </tr>\n",
              "    <tr>\n",
              "      <th>44638</th>\n",
              "      <td>47156.09</td>\n",
              "      <td>47156.09</td>\n",
              "      <td>47156.09</td>\n",
              "      <td>47156.09</td>\n",
              "      <td>0.001520</td>\n",
              "      <td>8.040709</td>\n",
              "      <td>14.066248</td>\n",
              "      <td>34.535736</td>\n",
              "      <td>9.992564</td>\n",
              "      <td>40.709736</td>\n",
              "      <td>11.779034</td>\n",
              "      <td>6.518665</td>\n",
              "      <td>15.255</td>\n",
              "      <td>2.558</td>\n",
              "      <td>51.182</td>\n",
              "      <td>56.1055</td>\n",
              "      <td>29.2744</td>\n",
              "      <td>203.0</td>\n",
              "      <td>46779.16</td>\n",
              "    </tr>\n",
              "  </tbody>\n",
              "</table>\n",
              "<p>44639 rows × 19 columns</p>\n",
              "</div>\n",
              "      <button class=\"colab-df-convert\" onclick=\"convertToInteractive('df-5bbc78f8-c65f-4c08-89ac-0d0270743b82')\"\n",
              "              title=\"Convert this dataframe to an interactive table.\"\n",
              "              style=\"display:none;\">\n",
              "        \n",
              "  <svg xmlns=\"http://www.w3.org/2000/svg\" height=\"24px\"viewBox=\"0 0 24 24\"\n",
              "       width=\"24px\">\n",
              "    <path d=\"M0 0h24v24H0V0z\" fill=\"none\"/>\n",
              "    <path d=\"M18.56 5.44l.94 2.06.94-2.06 2.06-.94-2.06-.94-.94-2.06-.94 2.06-2.06.94zm-11 1L8.5 8.5l.94-2.06 2.06-.94-2.06-.94L8.5 2.5l-.94 2.06-2.06.94zm10 10l.94 2.06.94-2.06 2.06-.94-2.06-.94-.94-2.06-.94 2.06-2.06.94z\"/><path d=\"M17.41 7.96l-1.37-1.37c-.4-.4-.92-.59-1.43-.59-.52 0-1.04.2-1.43.59L10.3 9.45l-7.72 7.72c-.78.78-.78 2.05 0 2.83L4 21.41c.39.39.9.59 1.41.59.51 0 1.02-.2 1.41-.59l7.78-7.78 2.81-2.81c.8-.78.8-2.07 0-2.86zM5.41 20L4 18.59l7.72-7.72 1.47 1.35L5.41 20z\"/>\n",
              "  </svg>\n",
              "      </button>\n",
              "      \n",
              "  <style>\n",
              "    .colab-df-container {\n",
              "      display:flex;\n",
              "      flex-wrap:wrap;\n",
              "      gap: 12px;\n",
              "    }\n",
              "\n",
              "    .colab-df-convert {\n",
              "      background-color: #E8F0FE;\n",
              "      border: none;\n",
              "      border-radius: 50%;\n",
              "      cursor: pointer;\n",
              "      display: none;\n",
              "      fill: #1967D2;\n",
              "      height: 32px;\n",
              "      padding: 0 0 0 0;\n",
              "      width: 32px;\n",
              "    }\n",
              "\n",
              "    .colab-df-convert:hover {\n",
              "      background-color: #E2EBFA;\n",
              "      box-shadow: 0px 1px 2px rgba(60, 64, 67, 0.3), 0px 1px 3px 1px rgba(60, 64, 67, 0.15);\n",
              "      fill: #174EA6;\n",
              "    }\n",
              "\n",
              "    [theme=dark] .colab-df-convert {\n",
              "      background-color: #3B4455;\n",
              "      fill: #D2E3FC;\n",
              "    }\n",
              "\n",
              "    [theme=dark] .colab-df-convert:hover {\n",
              "      background-color: #434B5C;\n",
              "      box-shadow: 0px 1px 3px 1px rgba(0, 0, 0, 0.15);\n",
              "      filter: drop-shadow(0px 1px 2px rgba(0, 0, 0, 0.3));\n",
              "      fill: #FFFFFF;\n",
              "    }\n",
              "  </style>\n",
              "\n",
              "      <script>\n",
              "        const buttonEl =\n",
              "          document.querySelector('#df-5bbc78f8-c65f-4c08-89ac-0d0270743b82 button.colab-df-convert');\n",
              "        buttonEl.style.display =\n",
              "          google.colab.kernel.accessAllowed ? 'block' : 'none';\n",
              "\n",
              "        async function convertToInteractive(key) {\n",
              "          const element = document.querySelector('#df-5bbc78f8-c65f-4c08-89ac-0d0270743b82');\n",
              "          const dataTable =\n",
              "            await google.colab.kernel.invokeFunction('convertToInteractive',\n",
              "                                                     [key], {});\n",
              "          if (!dataTable) return;\n",
              "\n",
              "          const docLinkHtml = 'Like what you see? Visit the ' +\n",
              "            '<a target=\"_blank\" href=https://colab.research.google.com/notebooks/data_table.ipynb>data table notebook</a>'\n",
              "            + ' to learn more about interactive tables.';\n",
              "          element.innerHTML = '';\n",
              "          dataTable['output_type'] = 'display_data';\n",
              "          await google.colab.output.renderOutput(dataTable, element);\n",
              "          const docLink = document.createElement('div');\n",
              "          docLink.innerHTML = docLinkHtml;\n",
              "          element.appendChild(docLink);\n",
              "        }\n",
              "      </script>\n",
              "    </div>\n",
              "  </div>\n",
              "  "
            ],
            "text/plain": [
              "           open      high       low  ...  reddit_flair  BERT-Sentiment  target_price\n",
              "0      41454.97  41454.97  41333.49  ...       -1.9125             8.0      41686.84\n",
              "1      41336.83  41345.60  41170.00  ...       -3.4282            14.0      41737.87\n",
              "2      41209.58  41304.74  41188.99  ...       -3.4282            14.0      41758.27\n",
              "3      41338.73  41360.32  41311.20  ...       -4.4216            15.0      41775.83\n",
              "4      41386.76  41569.38  41386.76  ...       -4.4216            15.0      41803.74\n",
              "...         ...       ...       ...  ...           ...             ...           ...\n",
              "44634  47298.62  47298.62  47237.03  ...       25.5301           195.0      46829.57\n",
              "44635  47208.34  47218.32  47191.51  ...       25.5301           195.0      46803.96\n",
              "44636  47195.50  47195.50  47162.44  ...       29.2806           197.0      46785.18\n",
              "44637  47162.44  47181.33  47113.56  ...       28.2807           198.0      46780.11\n",
              "44638  47156.09  47156.09  47156.09  ...       29.2744           203.0      46779.16\n",
              "\n",
              "[44639 rows x 19 columns]"
            ]
          },
          "execution_count": 32,
          "metadata": {},
          "output_type": "execute_result"
        }
      ],
      "source": [
        "# drop unneccesary columns\n",
        "btc_sentiment = btc_sentiment.drop([\"unix\", \"date\"], axis=1)\n",
        "btc_sentiment"
      ]
    },
    {
      "cell_type": "code",
      "execution_count": null,
      "metadata": {
        "colab": {
          "base_uri": "https://localhost:8080/",
          "height": 17
        },
        "id": "GWrmRout1vKt",
        "outputId": "c9854e7e-35a4-4884-826a-e31891845cb2"
      },
      "outputs": [
        {
          "data": {
            "application/javascript": [
              "\n",
              "    async function download(id, filename, size) {\n",
              "      if (!google.colab.kernel.accessAllowed) {\n",
              "        return;\n",
              "      }\n",
              "      const div = document.createElement('div');\n",
              "      const label = document.createElement('label');\n",
              "      label.textContent = `Downloading \"${filename}\": `;\n",
              "      div.appendChild(label);\n",
              "      const progress = document.createElement('progress');\n",
              "      progress.max = size;\n",
              "      div.appendChild(progress);\n",
              "      document.body.appendChild(div);\n",
              "\n",
              "      const buffers = [];\n",
              "      let downloaded = 0;\n",
              "\n",
              "      const channel = await google.colab.kernel.comms.open(id);\n",
              "      // Send a message to notify the kernel that we're ready.\n",
              "      channel.send({})\n",
              "\n",
              "      for await (const message of channel.messages) {\n",
              "        // Send a message to notify the kernel that we're ready.\n",
              "        channel.send({})\n",
              "        if (message.buffers) {\n",
              "          for (const buffer of message.buffers) {\n",
              "            buffers.push(buffer);\n",
              "            downloaded += buffer.byteLength;\n",
              "            progress.value = downloaded;\n",
              "          }\n",
              "        }\n",
              "      }\n",
              "      const blob = new Blob(buffers, {type: 'application/binary'});\n",
              "      const a = document.createElement('a');\n",
              "      a.href = window.URL.createObjectURL(blob);\n",
              "      a.download = filename;\n",
              "      div.appendChild(a);\n",
              "      a.click();\n",
              "      div.remove();\n",
              "    }\n",
              "  "
            ],
            "text/plain": [
              "<IPython.core.display.Javascript object>"
            ]
          },
          "metadata": {},
          "output_type": "display_data"
        },
        {
          "data": {
            "application/javascript": [
              "download(\"download_ebd94a34-4cc7-49fc-b8a2-dd8d0505175c\", \"btc_reddit_sentiment_august2021.csv\", 11057244)"
            ],
            "text/plain": [
              "<IPython.core.display.Javascript object>"
            ]
          },
          "metadata": {},
          "output_type": "display_data"
        }
      ],
      "source": [
        "# save final data\n",
        "from google.colab import files\n",
        "btc_sentiment.to_csv(\"btc_reddit_sentiment_august2021.csv\")\n",
        "files.download(\"btc_reddit_sentiment_august2021.csv\")"
      ]
    },
    {
      "cell_type": "markdown",
      "metadata": {
        "id": "xC_kbekp1f46"
      },
      "source": [
        "## Data preparation"
      ]
    },
    {
      "cell_type": "code",
      "execution_count": null,
      "metadata": {
        "id": "SIo8J8ATAmAk"
      },
      "outputs": [],
      "source": [
        "#imports\n",
        "from sklearn.model_selection import train_test_split\n",
        "from sklearn.utils import shuffle\n",
        "from sklearn.preprocessing import MinMaxScaler\n",
        "import matplotlib.pyplot as plt\n",
        "import pandas as pd\n"
      ]
    },
    {
      "cell_type": "code",
      "execution_count": null,
      "metadata": {
        "id": "LPKESiqxDT-d"
      },
      "outputs": [],
      "source": [
        "# funcitons\n",
        "def prediction_to_price(scaled_price, sc):\n",
        "  scaled_price = scaled_price.reshape(-1,1)\n",
        "  # beacuse scaler is set to entire dateset, we need to create dataset like array in order to do the inverse scaleing\n",
        "  _extended = np.zeros((len(scaled_price),num_of_features+1))\n",
        "  _extended[:,-1] = scaled_price[:,0]\n",
        "  return sc.inverse_transform(_extended)[:,-1]\n",
        "\n",
        "def plot_training_history(hist):\n",
        "  # Plot training\n",
        "  plt.plot(hist.history['loss'])\n",
        "  plt.plot(hist.history['val_loss'])\n",
        "  plt.title('Model loss')\n",
        "  plt.ylabel('Loss')\n",
        "  plt.xlabel('Epoch')\n",
        "  plt.legend(['training', 'validation'], loc='upper right')\n",
        "  plt.show()\n"
      ]
    },
    {
      "cell_type": "code",
      "execution_count": null,
      "metadata": {
        "id": "gyUUDfBe2kOd"
      },
      "outputs": [],
      "source": [
        "# check if dataframe exists, if not download it\n",
        "try: btc_sentiment\n",
        "except NameError: btc_sentiment = None\n",
        "\n",
        "if btc_sentiment is None:\n",
        "  path = \"Dataset/\"\n",
        "  filename_sent = \"btc_reddit_sentiment_august2021.csv\"\n",
        "  btc_sentiment = pd.read_csv(path+filename_sent, index_col=0)"
      ]
    },
    {
      "cell_type": "code",
      "execution_count": null,
      "metadata": {
        "id": "DiELf6xy3WdG"
      },
      "outputs": [],
      "source": [
        "# configuration\n",
        "look_back = 60 # 1 hour, as each entry is for 1 minute\n",
        "lstm_layers = 64\n",
        "epochs=30\n",
        "batch_size= 64\n",
        "test_size = 0.2\n",
        "num_of_features = len(btc_sentiment.columns) - 1\n",
        "val_split = 0.3"
      ]
    },
    {
      "cell_type": "code",
      "execution_count": null,
      "metadata": {
        "id": "-895KcziChHP"
      },
      "outputs": [],
      "source": [
        "# scale data\n",
        "scaler = MinMaxScaler(feature_range=(0, 1))\n",
        "dataset = scaler.fit_transform(btc_sentiment)"
      ]
    },
    {
      "cell_type": "code",
      "execution_count": null,
      "metadata": {
        "colab": {
          "base_uri": "https://localhost:8080/",
          "height": 17
        },
        "id": "aVxeh1aVK6ua",
        "outputId": "33f5a130-4883-4fc6-98c6-94a33e33e37b"
      },
      "outputs": [
        {
          "data": {
            "application/javascript": [
              "\n",
              "    async function download(id, filename, size) {\n",
              "      if (!google.colab.kernel.accessAllowed) {\n",
              "        return;\n",
              "      }\n",
              "      const div = document.createElement('div');\n",
              "      const label = document.createElement('label');\n",
              "      label.textContent = `Downloading \"${filename}\": `;\n",
              "      div.appendChild(label);\n",
              "      const progress = document.createElement('progress');\n",
              "      progress.max = size;\n",
              "      div.appendChild(progress);\n",
              "      document.body.appendChild(div);\n",
              "\n",
              "      const buffers = [];\n",
              "      let downloaded = 0;\n",
              "\n",
              "      const channel = await google.colab.kernel.comms.open(id);\n",
              "      // Send a message to notify the kernel that we're ready.\n",
              "      channel.send({})\n",
              "\n",
              "      for await (const message of channel.messages) {\n",
              "        // Send a message to notify the kernel that we're ready.\n",
              "        channel.send({})\n",
              "        if (message.buffers) {\n",
              "          for (const buffer of message.buffers) {\n",
              "            buffers.push(buffer);\n",
              "            downloaded += buffer.byteLength;\n",
              "            progress.value = downloaded;\n",
              "          }\n",
              "        }\n",
              "      }\n",
              "      const blob = new Blob(buffers, {type: 'application/binary'});\n",
              "      const a = document.createElement('a');\n",
              "      a.href = window.URL.createObjectURL(blob);\n",
              "      a.download = filename;\n",
              "      div.appendChild(a);\n",
              "      a.click();\n",
              "      div.remove();\n",
              "    }\n",
              "  "
            ],
            "text/plain": [
              "<IPython.core.display.Javascript object>"
            ]
          },
          "metadata": {},
          "output_type": "display_data"
        },
        {
          "data": {
            "application/javascript": [
              "download(\"download_0ca7fd0b-2475-47e3-9f96-4a4ebd437acd\", \"scaler.pickle\", 0)"
            ],
            "text/plain": [
              "<IPython.core.display.Javascript object>"
            ]
          },
          "metadata": {},
          "output_type": "display_data"
        }
      ],
      "source": [
        "# save scaler\n",
        "import pickle\n",
        "with open('scaler.pickle', 'wb') as handle:\n",
        "    pickle.dump(scaler, handle, protocol=pickle.HIGHEST_PROTOCOL)\n",
        "    #save adn download the model\n",
        "    from google.colab import files\n",
        "    files.download(\"/content/scaler.pickle\")\n"
      ]
    },
    {
      "cell_type": "code",
      "execution_count": null,
      "metadata": {
        "colab": {
          "base_uri": "https://localhost:8080/"
        },
        "id": "gYKVghZD6xLC",
        "outputId": "182dd931-9774-4cf1-c5e5-27c539e093e8"
      },
      "outputs": [
        {
          "name": "stdout",
          "output_type": "stream",
          "text": [
            "X_train shape = (35663, 60, 18)\n",
            "y_train shape = (35663,)\n",
            "X_test shape = (8916, 60, 18)\n",
            "y_test shape = (8916,)\n"
          ]
        }
      ],
      "source": [
        "#form dataset and shuffle\n",
        "X = []\n",
        "y = []\n",
        "for i in range(look_back, len(btc_sentiment)):\n",
        "  rows = dataset[i-look_back:i]\n",
        "  X.append(rows[:,:-1])\n",
        "  y.append(rows[-1,-1])\n",
        "\n",
        "X = np.array(X)\n",
        "y = np.array(y)\n",
        "\n",
        "# We don't shuffle so we can plot test prediction\n",
        "X_train, X_test, y_train, y_test = train_test_split(X, y, test_size=test_size, shuffle=False)\n",
        "print(f\"X_train shape = {X_train.shape}\\ny_train shape = {y_train.shape}\\nX_test shape = {X_test.shape}\\ny_test shape = {y_test.shape}\")\n",
        "#X_train, y_train = shuffle(X_train, y_train, random_state=0)"
      ]
    },
    {
      "cell_type": "markdown",
      "metadata": {
        "id": "CSsgqSaDCBiq"
      },
      "source": [
        "## LSTM-GRU model"
      ]
    },
    {
      "cell_type": "code",
      "execution_count": null,
      "metadata": {
        "id": "eVKHNkS-CUKD"
      },
      "outputs": [],
      "source": [
        "# imports\n",
        "from keras.models import Sequential\n",
        "from keras.layers import Dense\n",
        "from keras.layers import LSTM, GRU\n",
        "from keras.regularizers import l2\n",
        "from keras.callbacks import EarlyStopping"
      ]
    },
    {
      "cell_type": "code",
      "execution_count": null,
      "metadata": {
        "colab": {
          "base_uri": "https://localhost:8080/"
        },
        "id": "PUrVnegnB9ZA",
        "outputId": "87e8d74c-2564-4a5d-829c-3ef1d1e690d0"
      },
      "outputs": [
        {
          "name": "stdout",
          "output_type": "stream",
          "text": [
            "Epoch 1/30\n",
            "391/391 [==============================] - 45s 98ms/step - loss: 0.0091 - val_loss: 0.0537\n",
            "Epoch 2/30\n",
            "391/391 [==============================] - 37s 95ms/step - loss: 0.0059 - val_loss: 0.0745\n",
            "Epoch 3/30\n",
            "391/391 [==============================] - 39s 100ms/step - loss: 0.0057 - val_loss: 0.0845\n",
            "Epoch 4/30\n",
            "391/391 [==============================] - 37s 95ms/step - loss: 0.0060 - val_loss: 0.0841\n",
            "Epoch 5/30\n",
            "391/391 [==============================] - 37s 96ms/step - loss: 0.0064 - val_loss: 0.0736\n",
            "Epoch 6/30\n",
            "391/391 [==============================] - 37s 95ms/step - loss: 0.0069 - val_loss: 0.0697\n",
            "Epoch 7/30\n",
            "391/391 [==============================] - 37s 95ms/step - loss: 0.0075 - val_loss: 0.0683\n",
            "Epoch 8/30\n",
            "391/391 [==============================] - 37s 95ms/step - loss: 0.0077 - val_loss: 0.0672\n",
            "Epoch 9/30\n",
            "391/391 [==============================] - 37s 95ms/step - loss: 0.0080 - val_loss: 0.0666\n",
            "Epoch 10/30\n",
            "391/391 [==============================] - 37s 95ms/step - loss: 0.0082 - val_loss: 0.0655\n",
            "Epoch 11/30\n",
            "391/391 [==============================] - 37s 96ms/step - loss: 0.0083 - val_loss: 0.0640\n"
          ]
        }
      ],
      "source": [
        "lstm_gru = Sequential()\n",
        "lstm_gru.add(LSTM(lstm_layers, return_sequences=True, input_shape=(look_back,num_of_features)))\n",
        "lstm_gru.add(GRU(lstm_layers))\n",
        "lstm_gru.add(Dense(1, activity_regularizer=l2(0.01)))\n",
        "lstm_gru.compile(loss='mean_squared_error', optimizer='adam')\n",
        "history= lstm_gru.fit(X_train, y_train,validation_split=val_split, epochs=epochs, batch_size=batch_size,shuffle=False, callbacks=[EarlyStopping(patience=10, restore_best_weights=True)])"
      ]
    },
    {
      "cell_type": "code",
      "execution_count": null,
      "metadata": {
        "colab": {
          "base_uri": "https://localhost:8080/",
          "height": 295
        },
        "id": "YjOR8tqo-aoR",
        "outputId": "fb42f4da-362d-4a51-e47e-6d0160459dc4"
      },
      "outputs": [
        {
          "data": {
            "image/png": "[encoded data removed]",
            "text/plain": [
              "<Figure size 432x288 with 1 Axes>"
            ]
          },
          "metadata": {
            "needs_background": "light"
          },
          "output_type": "display_data"
        }
      ],
      "source": [
        "plot_training_history(history)"
      ]
    },
    {
      "cell_type": "code",
      "execution_count": null,
      "metadata": {
        "id": "f1bodvt8-c0T"
      },
      "outputs": [],
      "source": [
        "# visualization of prediction\n",
        "pred_test = lstm_gru.predict(X_test)\n",
        "pred_prices = prediction_to_price(pred_test, scaler)\n",
        "actual_prices = prediction_to_price(y_test, scaler)\n",
        "\n",
        "plt.plot(actual_prices, label=\"true\")\n",
        "plt.plot(pred_prices, label=\"predicted\")\n",
        "plt.legend()\n",
        "plt.show()"
      ]
    },
    {
      "cell_type": "code",
      "execution_count": null,
      "metadata": {
        "id": "gu1o-D3pGvNd"
      },
      "outputs": [],
      "source": [
        "#save adn download the model\n",
        "from google.colab import files\n",
        "lstm_gru.save(\"lstm\")\n",
        "!zip -r /content/lstm.zip /content/lstm/\n",
        "files.download(\"/content/lstm.zip\")"
      ]
    },
    {
      "cell_type": "markdown",
      "metadata": {
        "id": "9mnRRJWH_pOY"
      },
      "source": [
        "## Transformer"
      ]
    },
    {
      "cell_type": "code",
      "execution_count": null,
      "metadata": {
        "id": "ZMcDB-bZ_0Hj"
      },
      "outputs": [],
      "source": [
        "# imports\n",
        "from keras.layers import Dense, LayerNormalization, MultiHeadAttention, Dropout, Conv1D, GlobalAveragePooling1D\n",
        "from keras import Input, Model\n",
        "from keras.regularizers import l2\n",
        "from keras.callbacks import EarlyStopping"
      ]
    },
    {
      "cell_type": "code",
      "execution_count": null,
      "metadata": {
        "id": "7-zO4e5jARS7"
      },
      "outputs": [],
      "source": [
        "# functions\n",
        "\n",
        "def trans_encoder(inputs, head_size, n_heads, ff_dim,\n",
        "  drop=0.0):\n",
        "  # MultiHeadAttention\n",
        "  x = LayerNormalization(epsilon=1e-6)(inputs)\n",
        "  x = MultiHeadAttention(\n",
        "    key_dim=head_size, num_heads=n_heads, dropout=drop)(x, x)\n",
        "  x = Dropout(drop)(x)\n",
        "  res = x + inputs\n",
        "\n",
        "  x = LayerNormalization(epsilon=1e-6)(res)\n",
        "  x = Conv1D(filters=ff_dim, kernel_size=1,\n",
        "    activation=\"relu\")(x)\n",
        "  x = Dropout(drop)(x)\n",
        "  x = Conv1D(filters=inputs.shape[-1],\n",
        "    kernel_size=1)(x)\n",
        "  return x + res\n",
        "\n",
        "def create_model(input_shape, head_size, n_heads, ff_dim,\n",
        "  n_trans_blocks, mlp_units, drop=0.0, mlp_drop=0.0):\n",
        "\n",
        "  inpts = Input(shape=input_shape)\n",
        "  x = inpts\n",
        "  for _ in range(n_trans_blocks):\n",
        "    x = trans_encoder(x, head_size, n_heads, ff_dim, drop)\n",
        "\n",
        "  x = GlobalAveragePooling1D(data_format=\"channels_first\")(x)\n",
        "  for dim in mlp_units:\n",
        "    x = Dense(dim, activation=\"relu\")(x)\n",
        "    x = Dropout(mlp_drop)(x)\n",
        "  oupts = Dense(1, activity_regularizer=l2(0.01))(x) \n",
        "  return Model(inpts, oupts)\n"
      ]
    },
    {
      "cell_type": "code",
      "execution_count": null,
      "metadata": {
        "colab": {
          "base_uri": "https://localhost:8080/"
        },
        "id": "z9isQr4MBnpi",
        "outputId": "cf66fba2-b9b8-401c-e7d0-bfee4d3ceb3a"
      },
      "outputs": [
        {
          "name": "stdout",
          "output_type": "stream",
          "text": [
            "Epoch 1/30\n",
            "391/391 [==============================] - 620s 2s/step - loss: 0.0360 - val_loss: 0.1421\n",
            "Epoch 2/30\n",
            "391/391 [==============================] - 621s 2s/step - loss: 0.0187 - val_loss: 0.0281\n",
            "Epoch 3/30\n",
            "391/391 [==============================] - 626s 2s/step - loss: 0.0181 - val_loss: 0.1959\n",
            "Epoch 4/30\n",
            "391/391 [==============================] - 635s 2s/step - loss: 0.0368 - val_loss: 0.0748\n",
            "Epoch 5/30\n",
            "391/391 [==============================] - 639s 2s/step - loss: 0.0397 - val_loss: 0.1140\n",
            "Epoch 6/30\n",
            "391/391 [==============================] - 637s 2s/step - loss: 0.0185 - val_loss: 0.1182\n",
            "Epoch 7/30\n",
            "391/391 [==============================] - 638s 2s/step - loss: 0.0259 - val_loss: 0.0773\n",
            "Epoch 8/30\n",
            "391/391 [==============================] - 641s 2s/step - loss: 0.0389 - val_loss: 0.0764\n",
            "Epoch 9/30\n",
            "391/391 [==============================] - 641s 2s/step - loss: 0.0261 - val_loss: 0.0958\n",
            "Epoch 10/30\n",
            "391/391 [==============================] - 644s 2s/step - loss: 0.0231 - val_loss: 0.0591\n",
            "Epoch 11/30\n",
            "391/391 [==============================] - 651s 2s/step - loss: 0.0280 - val_loss: 0.0642\n",
            "Epoch 12/30\n",
            "391/391 [==============================] - 652s 2s/step - loss: 0.0165 - val_loss: 0.0592\n"
          ]
        }
      ],
      "source": [
        "input_shape = X_train.shape[1:]\n",
        "transformer = create_model(input_shape, head_size=256, n_heads=4,\n",
        "    ff_dim=4, n_trans_blocks=4, mlp_units=[128],\n",
        "    drop=0.25, mlp_drop=0.4)\n",
        "transformer.compile(loss=\"mean_squared_error\", optimizer='adam')\n",
        "history = transformer.fit(X_train, y_train,validation_split=val_split, epochs=epochs, batch_size=batch_size,shuffle=False, callbacks=[EarlyStopping(patience=10, restore_best_weights=True)])  "
      ]
    },
    {
      "cell_type": "code",
      "execution_count": null,
      "metadata": {
        "colab": {
          "base_uri": "https://localhost:8080/",
          "height": 295
        },
        "id": "9mz0nsyUC0EF",
        "outputId": "27e40317-72ea-4c22-e632-30cd5d3cc232"
      },
      "outputs": [
        {
          "data": {
            "image/png": "[encoded data removed]",
            "text/plain": [
              "<Figure size 432x288 with 1 Axes>"
            ]
          },
          "metadata": {
            "needs_background": "light"
          },
          "output_type": "display_data"
        }
      ],
      "source": [
        "# Plot training\n",
        "plot_training_history(history)"
      ]
    },
    {
      "cell_type": "code",
      "execution_count": null,
      "metadata": {
        "id": "8u9lv0sGDHDK"
      },
      "outputs": [],
      "source": [
        "#save adn download the model\n",
        "from google.colab import files\n",
        "transformer.save(\"transformer\")\n",
        "!zip -r /content/transformer.zip /content/transformer/\n",
        "files.download(\"/content/transformer.zip\")"
      ]
    },
    {
      "cell_type": "markdown",
      "metadata": {
        "id": "dfNIlBybHOhB"
      },
      "source": [
        "## Models evaluation"
      ]
    },
    {
      "cell_type": "code",
      "execution_count": null,
      "metadata": {
        "id": "tPBQPo15IKfP"
      },
      "outputs": [],
      "source": [
        "import tensorflow as tf\n",
        "from sklearn.metrics import mean_squared_error\n",
        "import math\n",
        "from sklearn import feature_selection\n"
      ]
    },
    {
      "cell_type": "markdown",
      "metadata": {
        "id": "3zVLTFPuJR__"
      },
      "source": [
        "### Download models"
      ]
    },
    {
      "cell_type": "code",
      "execution_count": null,
      "metadata": {
        "id": "epOmh8s4ICaV"
      },
      "outputs": [],
      "source": [
        "# donwload files\n",
        "!wget \"https://www.dropbox.com/s/1ctayo5vyhapxxc/lstm.zip\"\n",
        "!wget \"https://www.dropbox.com/s/rk6b8lx6uq4wsty/transformer.zip\"\n",
        "!wget \"https://www.dropbox.com/s/6969k7jbmy8sc5j/scaler.pickle\""
      ]
    },
    {
      "cell_type": "code",
      "execution_count": null,
      "metadata": {
        "id": "o_-FrfwBBer_"
      },
      "outputs": [],
      "source": [
        "!unzip lstm.zip\n",
        "!unzip transformer.zip"
      ]
    },
    {
      "cell_type": "code",
      "execution_count": null,
      "metadata": {
        "id": "AeYCd64HHTx-"
      },
      "outputs": [],
      "source": [
        "# check if dataframe exists, if not download it\n",
        "try: lstm_gru\n",
        "except NameError: lstm_gru = None\n",
        "\n",
        "if lstm_gru is None:\n",
        "      lstm_gru = tf.keras.models.load_model('lstm')\n",
        "\n",
        "# check if dataframe exists, if not download it\n",
        "try: transformer\n",
        "except NameError: transformer = None\n",
        "\n",
        "if transformer is None:\n",
        "  transformer = tf.keras.models.load_model('transformer')\n",
        "\n",
        "try: scaler\n",
        "except NameError: scaler = None\n",
        "\n",
        "if scaler is None:\n",
        "  with open('scaler.pickle', 'rb') as handle:\n",
        "    scaler = pickle.load(handle)"
      ]
    },
    {
      "cell_type": "markdown",
      "metadata": {
        "id": "1SYh2-UuJWyo"
      },
      "source": [
        "### Evaluation"
      ]
    },
    {
      "cell_type": "code",
      "execution_count": null,
      "metadata": {
        "id": "1kdGL3GVM1vp"
      },
      "outputs": [],
      "source": [
        "def plot_pred_vs_true(true_price, pred_price):\n",
        "  # visualization of prediction\n",
        "  fig, ax = plt.subplots(figsize=(10,7))\n",
        "  plt.plot(true_price, label=\"true\")\n",
        "  plt.plot(pred_price, label=\"predicted\")\n",
        "  plt.legend()\n",
        "  plt.show()\n",
        "  "
      ]
    },
    {
      "cell_type": "code",
      "execution_count": null,
      "metadata": {
        "id": "fjXapWrAJcOj"
      },
      "outputs": [],
      "source": [
        "# predicts\n",
        "actual_prices = prediction_to_price(y_test.reshape(-1,1), scaler)\n",
        "\n",
        "testPredict_lstm = lstm_gru.predict(X_test)\n",
        "pred_prices_lstm = prediction_to_price(testPredict_lstm, scaler)\n",
        "\n",
        "testPredict_trans = transformer.predict(X_test)\n",
        "pred_prices_trans = prediction_to_price(testPredict_trans, scaler)"
      ]
    },
    {
      "cell_type": "code",
      "execution_count": null,
      "metadata": {
        "colab": {
          "base_uri": "https://localhost:8080/",
          "height": 446
        },
        "id": "_mKo-FMxNTo-",
        "outputId": "37929b59-328a-48b0-97bc-b683b38343c4"
      },
      "outputs": [
        {
          "name": "stdout",
          "output_type": "stream",
          "text": [
            "LSTM_GRU:\n"
          ]
        },
        {
          "data": {
            "image/png": "[encoded data removed]",
            "text/plain": [
              "<Figure size 720x504 with 1 Axes>"
            ]
          },
          "metadata": {
            "needs_background": "light"
          },
          "output_type": "display_data"
        }
      ],
      "source": [
        "print(\"LSTM_GRU:\")\n",
        "plot_pred_vs_true(actual_prices, pred_prices_lstm)"
      ]
    },
    {
      "cell_type": "code",
      "execution_count": null,
      "metadata": {
        "colab": {
          "base_uri": "https://localhost:8080/",
          "height": 446
        },
        "id": "eZ6EHs7IODCp",
        "outputId": "d325c18d-a372-4664-b7a8-d23ac51b88d1"
      },
      "outputs": [
        {
          "name": "stdout",
          "output_type": "stream",
          "text": [
            "Transfrormer:\n"
          ]
        },
        {
          "data": {
            "image/png": "[encoded data removed]",
            "text/plain": [
              "<Figure size 720x504 with 1 Axes>"
            ]
          },
          "metadata": {
            "needs_background": "light"
          },
          "output_type": "display_data"
        }
      ],
      "source": [
        "print(\"Transfrormer:\")\n",
        "plot_pred_vs_true(actual_prices, pred_prices_trans)"
      ]
    },
    {
      "cell_type": "code",
      "execution_count": null,
      "metadata": {
        "colab": {
          "base_uri": "https://localhost:8080/"
        },
        "id": "4kWCSAk8SffD",
        "outputId": "f18842ee-3781-492a-9752-b825cc930fe0"
      },
      "outputs": [
        {
          "name": "stdout",
          "output_type": "stream",
          "text": [
            "LSTM GRU RMSE: 2713.225393911248\n",
            "Transformer RMSE: 1662.7520313943037\n",
            "\n",
            "LSTM GRU MAE: 2642.9038500489355\n",
            "Transformer MAE: 1481.0224068996913\n"
          ]
        }
      ],
      "source": [
        "print(f\"LSTM GRU RMSE: {math.sqrt(mean_squared_error(actual_prices, pred_prices_lstm))}\")\n",
        "print(f\"Transformer RMSE: {math.sqrt(mean_squared_error(actual_prices, pred_prices_trans))}\")\n",
        "print(\"\")\n",
        "print(f\"LSTM GRU MAE: {np.sum(np.absolute(actual_prices - pred_prices_lstm))/len(actual_prices)}\")\n",
        "print(f\"Transformer MAE: {np.sum(np.absolute(actual_prices - pred_prices_trans))/len(actual_prices)}\")"
      ]
    },
    {
      "cell_type": "code",
      "execution_count": null,
      "metadata": {
        "colab": {
          "base_uri": "https://localhost:8080/",
          "height": 529
        },
        "id": "8osl5YaHUdjh",
        "outputId": "eb87c474-6689-498c-ba9e-fc454e786953"
      },
      "outputs": [
        {
          "name": "stdout",
          "output_type": "stream",
          "text": [
            "Correlation between predicted prices and features of the respective models:\n"
          ]
        },
        {
          "data": {
            "text/html": [
              "\n",
              "  <div id=\"df-9eee3d71-2250-4b41-91bb-ddcebdf6c2a3\">\n",
              "    <div class=\"colab-df-container\">\n",
              "      <div>\n",
              "<style scoped>\n",
              "    .dataframe tbody tr th:only-of-type {\n",
              "        vertical-align: middle;\n",
              "    }\n",
              "\n",
              "    .dataframe tbody tr th {\n",
              "        vertical-align: top;\n",
              "    }\n",
              "\n",
              "    .dataframe thead th {\n",
              "        text-align: right;\n",
              "    }\n",
              "</style>\n",
              "<table border=\"1\" class=\"dataframe\">\n",
              "  <thead>\n",
              "    <tr style=\"text-align: right;\">\n",
              "      <th></th>\n",
              "      <th>columns</th>\n",
              "      <th>lstm_score_r</th>\n",
              "      <th>lstm_score_f</th>\n",
              "      <th>lstm_score_p</th>\n",
              "      <th>trans_score_r</th>\n",
              "      <th>trans_score_f</th>\n",
              "      <th>trans_score_p</th>\n",
              "    </tr>\n",
              "  </thead>\n",
              "  <tbody>\n",
              "    <tr>\n",
              "      <th>0</th>\n",
              "      <td>open</td>\n",
              "      <td>0.89</td>\n",
              "      <td>35947.53</td>\n",
              "      <td>0.00</td>\n",
              "      <td>0.19</td>\n",
              "      <td>322.55</td>\n",
              "      <td>0.00</td>\n",
              "    </tr>\n",
              "    <tr>\n",
              "      <th>1</th>\n",
              "      <td>high</td>\n",
              "      <td>0.89</td>\n",
              "      <td>36087.47</td>\n",
              "      <td>0.00</td>\n",
              "      <td>0.19</td>\n",
              "      <td>326.23</td>\n",
              "      <td>0.00</td>\n",
              "    </tr>\n",
              "    <tr>\n",
              "      <th>2</th>\n",
              "      <td>low</td>\n",
              "      <td>0.89</td>\n",
              "      <td>35921.13</td>\n",
              "      <td>0.00</td>\n",
              "      <td>0.19</td>\n",
              "      <td>317.42</td>\n",
              "      <td>0.00</td>\n",
              "    </tr>\n",
              "    <tr>\n",
              "      <th>3</th>\n",
              "      <td>close</td>\n",
              "      <td>0.89</td>\n",
              "      <td>36078.55</td>\n",
              "      <td>0.00</td>\n",
              "      <td>0.19</td>\n",
              "      <td>320.80</td>\n",
              "      <td>0.00</td>\n",
              "    </tr>\n",
              "    <tr>\n",
              "      <th>4</th>\n",
              "      <td>Volume BTC</td>\n",
              "      <td>-0.12</td>\n",
              "      <td>128.91</td>\n",
              "      <td>0.00</td>\n",
              "      <td>-0.03</td>\n",
              "      <td>6.62</td>\n",
              "      <td>0.02</td>\n",
              "    </tr>\n",
              "    <tr>\n",
              "      <th>5</th>\n",
              "      <td>comments_sentiment</td>\n",
              "      <td>0.16</td>\n",
              "      <td>246.14</td>\n",
              "      <td>0.00</td>\n",
              "      <td>0.58</td>\n",
              "      <td>4455.82</td>\n",
              "      <td>0.00</td>\n",
              "    </tr>\n",
              "    <tr>\n",
              "      <th>6</th>\n",
              "      <td>tb_polarity</td>\n",
              "      <td>-0.28</td>\n",
              "      <td>751.36</td>\n",
              "      <td>0.00</td>\n",
              "      <td>0.16</td>\n",
              "      <td>229.80</td>\n",
              "      <td>0.00</td>\n",
              "    </tr>\n",
              "    <tr>\n",
              "      <th>7</th>\n",
              "      <td>tb_subjectivity</td>\n",
              "      <td>-0.18</td>\n",
              "      <td>312.53</td>\n",
              "      <td>0.00</td>\n",
              "      <td>0.27</td>\n",
              "      <td>725.68</td>\n",
              "      <td>0.00</td>\n",
              "    </tr>\n",
              "    <tr>\n",
              "      <th>8</th>\n",
              "      <td>anger</td>\n",
              "      <td>-0.03</td>\n",
              "      <td>9.43</td>\n",
              "      <td>0.01</td>\n",
              "      <td>0.50</td>\n",
              "      <td>3022.90</td>\n",
              "      <td>0.00</td>\n",
              "    </tr>\n",
              "    <tr>\n",
              "      <th>9</th>\n",
              "      <td>joy</td>\n",
              "      <td>-0.24</td>\n",
              "      <td>527.41</td>\n",
              "      <td>0.00</td>\n",
              "      <td>0.11</td>\n",
              "      <td>106.93</td>\n",
              "      <td>0.00</td>\n",
              "    </tr>\n",
              "    <tr>\n",
              "      <th>10</th>\n",
              "      <td>optimism</td>\n",
              "      <td>0.01</td>\n",
              "      <td>0.53</td>\n",
              "      <td>0.53</td>\n",
              "      <td>0.53</td>\n",
              "      <td>3570.86</td>\n",
              "      <td>0.00</td>\n",
              "    </tr>\n",
              "    <tr>\n",
              "      <th>11</th>\n",
              "      <td>sadness</td>\n",
              "      <td>0.12</td>\n",
              "      <td>135.82</td>\n",
              "      <td>0.00</td>\n",
              "      <td>0.64</td>\n",
              "      <td>6281.02</td>\n",
              "      <td>0.00</td>\n",
              "    </tr>\n",
              "    <tr>\n",
              "      <th>12</th>\n",
              "      <td>sia_pos</td>\n",
              "      <td>-0.22</td>\n",
              "      <td>455.81</td>\n",
              "      <td>0.00</td>\n",
              "      <td>0.13</td>\n",
              "      <td>154.72</td>\n",
              "      <td>0.00</td>\n",
              "    </tr>\n",
              "    <tr>\n",
              "      <th>13</th>\n",
              "      <td>sia_neg</td>\n",
              "      <td>0.12</td>\n",
              "      <td>141.82</td>\n",
              "      <td>0.00</td>\n",
              "      <td>0.62</td>\n",
              "      <td>5446.45</td>\n",
              "      <td>0.00</td>\n",
              "    </tr>\n",
              "    <tr>\n",
              "      <th>14</th>\n",
              "      <td>sia_neu</td>\n",
              "      <td>-0.14</td>\n",
              "      <td>180.47</td>\n",
              "      <td>0.00</td>\n",
              "      <td>0.33</td>\n",
              "      <td>1108.33</td>\n",
              "      <td>0.00</td>\n",
              "    </tr>\n",
              "    <tr>\n",
              "      <th>15</th>\n",
              "      <td>sid_com</td>\n",
              "      <td>-0.20</td>\n",
              "      <td>357.85</td>\n",
              "      <td>0.00</td>\n",
              "      <td>0.22</td>\n",
              "      <td>447.26</td>\n",
              "      <td>0.00</td>\n",
              "    </tr>\n",
              "    <tr>\n",
              "      <th>16</th>\n",
              "      <td>reddit_flair</td>\n",
              "      <td>-0.41</td>\n",
              "      <td>1890.68</td>\n",
              "      <td>0.00</td>\n",
              "      <td>0.04</td>\n",
              "      <td>28.89</td>\n",
              "      <td>0.12</td>\n",
              "    </tr>\n",
              "    <tr>\n",
              "      <th>17</th>\n",
              "      <td>BERT-Sentiment</td>\n",
              "      <td>-0.24</td>\n",
              "      <td>553.35</td>\n",
              "      <td>0.00</td>\n",
              "      <td>0.10</td>\n",
              "      <td>102.25</td>\n",
              "      <td>0.00</td>\n",
              "    </tr>\n",
              "  </tbody>\n",
              "</table>\n",
              "</div>\n",
              "      <button class=\"colab-df-convert\" onclick=\"convertToInteractive('df-9eee3d71-2250-4b41-91bb-ddcebdf6c2a3')\"\n",
              "              title=\"Convert this dataframe to an interactive table.\"\n",
              "              style=\"display:none;\">\n",
              "        \n",
              "  <svg xmlns=\"http://www.w3.org/2000/svg\" height=\"24px\"viewBox=\"0 0 24 24\"\n",
              "       width=\"24px\">\n",
              "    <path d=\"M0 0h24v24H0V0z\" fill=\"none\"/>\n",
              "    <path d=\"M18.56 5.44l.94 2.06.94-2.06 2.06-.94-2.06-.94-.94-2.06-.94 2.06-2.06.94zm-11 1L8.5 8.5l.94-2.06 2.06-.94-2.06-.94L8.5 2.5l-.94 2.06-2.06.94zm10 10l.94 2.06.94-2.06 2.06-.94-2.06-.94-.94-2.06-.94 2.06-2.06.94z\"/><path d=\"M17.41 7.96l-1.37-1.37c-.4-.4-.92-.59-1.43-.59-.52 0-1.04.2-1.43.59L10.3 9.45l-7.72 7.72c-.78.78-.78 2.05 0 2.83L4 21.41c.39.39.9.59 1.41.59.51 0 1.02-.2 1.41-.59l7.78-7.78 2.81-2.81c.8-.78.8-2.07 0-2.86zM5.41 20L4 18.59l7.72-7.72 1.47 1.35L5.41 20z\"/>\n",
              "  </svg>\n",
              "      </button>\n",
              "      \n",
              "  <style>\n",
              "    .colab-df-container {\n",
              "      display:flex;\n",
              "      flex-wrap:wrap;\n",
              "      gap: 12px;\n",
              "    }\n",
              "\n",
              "    .colab-df-convert {\n",
              "      background-color: #E8F0FE;\n",
              "      border: none;\n",
              "      border-radius: 50%;\n",
              "      cursor: pointer;\n",
              "      display: none;\n",
              "      fill: #1967D2;\n",
              "      height: 32px;\n",
              "      padding: 0 0 0 0;\n",
              "      width: 32px;\n",
              "    }\n",
              "\n",
              "    .colab-df-convert:hover {\n",
              "      background-color: #E2EBFA;\n",
              "      box-shadow: 0px 1px 2px rgba(60, 64, 67, 0.3), 0px 1px 3px 1px rgba(60, 64, 67, 0.15);\n",
              "      fill: #174EA6;\n",
              "    }\n",
              "\n",
              "    [theme=dark] .colab-df-convert {\n",
              "      background-color: #3B4455;\n",
              "      fill: #D2E3FC;\n",
              "    }\n",
              "\n",
              "    [theme=dark] .colab-df-convert:hover {\n",
              "      background-color: #434B5C;\n",
              "      box-shadow: 0px 1px 3px 1px rgba(0, 0, 0, 0.15);\n",
              "      filter: drop-shadow(0px 1px 2px rgba(0, 0, 0, 0.3));\n",
              "      fill: #FFFFFF;\n",
              "    }\n",
              "  </style>\n",
              "\n",
              "      <script>\n",
              "        const buttonEl =\n",
              "          document.querySelector('#df-9eee3d71-2250-4b41-91bb-ddcebdf6c2a3 button.colab-df-convert');\n",
              "        buttonEl.style.display =\n",
              "          google.colab.kernel.accessAllowed ? 'block' : 'none';\n",
              "\n",
              "        async function convertToInteractive(key) {\n",
              "          const element = document.querySelector('#df-9eee3d71-2250-4b41-91bb-ddcebdf6c2a3');\n",
              "          const dataTable =\n",
              "            await google.colab.kernel.invokeFunction('convertToInteractive',\n",
              "                                                     [key], {});\n",
              "          if (!dataTable) return;\n",
              "\n",
              "          const docLinkHtml = 'Like what you see? Visit the ' +\n",
              "            '<a target=\"_blank\" href=https://colab.research.google.com/notebooks/data_table.ipynb>data table notebook</a>'\n",
              "            + ' to learn more about interactive tables.';\n",
              "          element.innerHTML = '';\n",
              "          dataTable['output_type'] = 'display_data';\n",
              "          await google.colab.output.renderOutput(dataTable, element);\n",
              "          const docLink = document.createElement('div');\n",
              "          docLink.innerHTML = docLinkHtml;\n",
              "          element.appendChild(docLink);\n",
              "        }\n",
              "      </script>\n",
              "    </div>\n",
              "  </div>\n",
              "  "
            ],
            "text/plain": [
              "               columns  lstm_score_r  ...  trans_score_f  trans_score_p\n",
              "0                 open          0.89  ...         322.55           0.00\n",
              "1                 high          0.89  ...         326.23           0.00\n",
              "2                  low          0.89  ...         317.42           0.00\n",
              "3                close          0.89  ...         320.80           0.00\n",
              "4           Volume BTC         -0.12  ...           6.62           0.02\n",
              "5   comments_sentiment          0.16  ...        4455.82           0.00\n",
              "6          tb_polarity         -0.28  ...         229.80           0.00\n",
              "7      tb_subjectivity         -0.18  ...         725.68           0.00\n",
              "8                anger         -0.03  ...        3022.90           0.00\n",
              "9                  joy         -0.24  ...         106.93           0.00\n",
              "10            optimism          0.01  ...        3570.86           0.00\n",
              "11             sadness          0.12  ...        6281.02           0.00\n",
              "12             sia_pos         -0.22  ...         154.72           0.00\n",
              "13             sia_neg          0.12  ...        5446.45           0.00\n",
              "14             sia_neu         -0.14  ...        1108.33           0.00\n",
              "15             sid_com         -0.20  ...         447.26           0.00\n",
              "16        reddit_flair         -0.41  ...          28.89           0.12\n",
              "17      BERT-Sentiment         -0.24  ...         102.25           0.00\n",
              "\n",
              "[18 rows x 7 columns]"
            ]
          },
          "execution_count": 107,
          "metadata": {},
          "output_type": "execute_result"
        }
      ],
      "source": [
        "print(\"Correlation between predicted prices and features of the respective models:\")\n",
        "r_score_lstm = r_regression(X_test.reshape(X_test.shape[0], -1), pred_prices_lstm).reshape(X_test.shape[1], -1).mean(axis=0)\n",
        "r_score_transformer = r_regression(X_test.reshape(X_test.shape[0], -1), pred_prices_trans).reshape(X_test.shape[1], -1).mean(axis=0)\n",
        "f_score_lstm = f_regression(X_test.reshape(X_test.shape[0], -1), pred_prices_lstm)[0].reshape(X_test.shape[1], -1).mean(axis=0)\n",
        "p_score_lstm = f_regression(X_test.reshape(X_test.shape[0], -1), pred_prices_lstm)[1].reshape(X_test.shape[1], -1).mean(axis=0)\n",
        "f_score_transformer = f_regression(X_test.reshape(X_test.shape[0], -1), pred_prices_trans)[0].reshape(X_test.shape[1], -1).mean(axis=0)\n",
        "p_score_transformer = f_regression(X_test.reshape(X_test.shape[0], -1), pred_prices_trans)[1].reshape(X_test.shape[1], -1).mean(axis=0)\n",
        "\n",
        "df_r_score = pd.DataFrame([])\n",
        "df_r_score[\"columns\"] = btc_sentiment.columns[:-1]\n",
        "df_r_score[\"lstm_score_r\"] = r_score_lstm\n",
        "df_r_score['lstm_score_f'] = f_score_lstm\n",
        "df_r_score['lstm_score_p'] = p_score_lstm\n",
        "df_r_score[\"trans_score_r\"] = r_score_transformer\n",
        "df_r_score['trans_score_f'] = f_score_transformer\n",
        "df_r_score['trans_score_p'] = p_score_transformer\n",
        "df_r_score.round(2)"
      ]
    },
    {
      "cell_type": "markdown",
      "metadata": {
        "id": "GSBfIAzeMlad"
      },
      "source": [
        "Correlation heatmap "
      ]
    },
    {
      "cell_type": "code",
      "execution_count": null,
      "metadata": {
        "id": "QQUYf04seXZI"
      },
      "outputs": [],
      "source": [
        "import seaborn as sns\n",
        "import numpy as np\n"
      ]
    },
    {
      "cell_type": "code",
      "execution_count": null,
      "metadata": {
        "colab": {
          "base_uri": "https://localhost:8080/"
        },
        "id": "7bFLBBmpjlM_",
        "outputId": "2b4becad-7719-4ce2-e474-f2fb8c3f6211"
      },
      "outputs": [
        {
          "data": {
            "text/plain": [
              "(534960, 18)"
            ]
          },
          "execution_count": 19,
          "metadata": {},
          "output_type": "execute_result"
        }
      ],
      "source": [
        "np.shape(X_test.reshape(-1, X_test.shape[2]))"
      ]
    },
    {
      "cell_type": "code",
      "execution_count": null,
      "metadata": {
        "id": "KTz6aQWNjrzV"
      },
      "outputs": [],
      "source": [
        "corr =  np.corrcoef(X_test.reshape(-1, X_test.shape[2]))"
      ]
    },
    {
      "cell_type": "code",
      "execution_count": null,
      "metadata": {
        "colab": {
          "base_uri": "https://localhost:8080/",
          "height": 234
        },
        "id": "DNoLhRAfrO5_",
        "outputId": "7d65c918-f638-46cb-e636-5fcdaef3de9f"
      },
      "outputs": [
        {
          "ename": "NameError",
          "evalue": "ignored",
          "output_type": "error",
          "traceback": [
            "\u001b[0;31m---------------------------------------------------------------------------\u001b[0m",
            "\u001b[0;31mNameError\u001b[0m                                 Traceback (most recent call last)",
            "\u001b[0;32m<ipython-input-1-d42fa0a6df7f>\u001b[0m in \u001b[0;36m<module>\u001b[0;34m()\u001b[0m\n\u001b[0;32m----> 1\u001b[0;31m ax = sns.heatmap(\n\u001b[0m\u001b[1;32m      2\u001b[0m     \u001b[0mcorr\u001b[0m\u001b[0;34m,\u001b[0m\u001b[0;34m\u001b[0m\u001b[0;34m\u001b[0m\u001b[0m\n\u001b[1;32m      3\u001b[0m     \u001b[0mvmin\u001b[0m\u001b[0;34m=\u001b[0m\u001b[0;34m-\u001b[0m\u001b[0;36m1\u001b[0m\u001b[0;34m,\u001b[0m \u001b[0mvmax\u001b[0m\u001b[0;34m=\u001b[0m\u001b[0;36m1\u001b[0m\u001b[0;34m,\u001b[0m \u001b[0mcenter\u001b[0m\u001b[0;34m=\u001b[0m\u001b[0;36m0\u001b[0m\u001b[0;34m,\u001b[0m\u001b[0;34m\u001b[0m\u001b[0;34m\u001b[0m\u001b[0m\n\u001b[1;32m      4\u001b[0m     \u001b[0mcmap\u001b[0m\u001b[0;34m=\u001b[0m\u001b[0msns\u001b[0m\u001b[0;34m.\u001b[0m\u001b[0mdiverging_palette\u001b[0m\u001b[0;34m(\u001b[0m\u001b[0;36m20\u001b[0m\u001b[0;34m,\u001b[0m \u001b[0;36m220\u001b[0m\u001b[0;34m,\u001b[0m \u001b[0mn\u001b[0m\u001b[0;34m=\u001b[0m\u001b[0;36m200\u001b[0m\u001b[0;34m)\u001b[0m\u001b[0;34m,\u001b[0m\u001b[0;34m\u001b[0m\u001b[0;34m\u001b[0m\u001b[0m\n\u001b[1;32m      5\u001b[0m     \u001b[0msquare\u001b[0m\u001b[0;34m=\u001b[0m\u001b[0;32mTrue\u001b[0m\u001b[0;34m\u001b[0m\u001b[0;34m\u001b[0m\u001b[0m\n",
            "\u001b[0;31mNameError\u001b[0m: name 'sns' is not defined"
          ]
        }
      ],
      "source": [
        "ax = sns.heatmap(\n",
        "    corr, \n",
        "    vmin=-1, vmax=1, center=0,\n",
        "    cmap=sns.diverging_palette(20, 220, n=200),\n",
        "    square=True\n",
        ")\n",
        "ax.set_xticklabels(\n",
        "    ax.get_xticklabels(),\n",
        "    rotation=45,\n",
        "    horizontalalignment='right'\n",
        ");"
      ]
    },
    {
      "cell_type": "code",
      "execution_count": null,
      "metadata": {
        "id": "jgqYysjqfe9W"
      },
      "outputs": [],
      "source": [
        "x_cor = df_r_score['lstm_score']\n",
        "xx_cor, yy_corr = np.meshgrid(x_cor,x_cor)"
      ]
    },
    {
      "cell_type": "code",
      "execution_count": null,
      "metadata": {
        "colab": {
          "base_uri": "https://localhost:8080/"
        },
        "id": "q20FkkO8ftam",
        "outputId": "87b9be9c-7107-4872-ad79-304d4f058c5f"
      },
      "outputs": [
        {
          "data": {
            "text/plain": [
              "array([[[0.88409268, 0.8797877 , 0.8839188 , ..., 0.59801737,\n",
              "         0.86658034, 0.63837638],\n",
              "        [0.88480909, 0.879803  , 0.88458818, ..., 0.59284988,\n",
              "         0.87378392, 0.63099631],\n",
              "        [0.88311096, 0.87810345, 0.88122841, ..., 0.58259305,\n",
              "         0.86670756, 0.63468635],\n",
              "        ...,\n",
              "        [0.87333427, 0.8700671 , 0.87249694, ..., 0.57698697,\n",
              "         0.78450535, 0.51845018],\n",
              "        [0.87522125, 0.87020714, 0.87393955, ..., 0.57323449,\n",
              "         0.78520893, 0.50369004],\n",
              "        [0.87383736, 0.87165876, 0.87541021, ..., 0.57323449,\n",
              "         0.78520893, 0.50369004]],\n",
              "\n",
              "       [[0.88480909, 0.879803  , 0.88458818, ..., 0.59284988,\n",
              "         0.87378392, 0.63099631],\n",
              "        [0.88311096, 0.87810345, 0.88122841, ..., 0.58259305,\n",
              "         0.86670756, 0.63468635],\n",
              "        [0.87896693, 0.87395595, 0.8793628 , ..., 0.58299256,\n",
              "         0.8654674 , 0.64206642],\n",
              "        ...,\n",
              "        [0.87522125, 0.87020714, 0.87393955, ..., 0.57323449,\n",
              "         0.78520893, 0.50369004],\n",
              "        [0.87383736, 0.87165876, 0.87541021, ..., 0.57323449,\n",
              "         0.78520893, 0.50369004],\n",
              "        [0.8759973 , 0.87134961, 0.87648591, ..., 0.55924256,\n",
              "         0.77101925, 0.49261993]],\n",
              "\n",
              "       [[0.88311096, 0.87810345, 0.88122841, ..., 0.58259305,\n",
              "         0.86670756, 0.63468635],\n",
              "        [0.87896693, 0.87395595, 0.8793628 , ..., 0.58299256,\n",
              "         0.8654674 , 0.64206642],\n",
              "        [0.87896693, 0.87515658, 0.88049611, ..., 0.58959864,\n",
              "         0.85629236, 0.64391144],\n",
              "        ...,\n",
              "        [0.87383736, 0.87165876, 0.87541021, ..., 0.57323449,\n",
              "         0.78520893, 0.50369004],\n",
              "        [0.8759973 , 0.87134961, 0.87648591, ..., 0.55924256,\n",
              "         0.77101925, 0.49261993],\n",
              "        [0.8770853 , 0.87454364, 0.8786305 , ..., 0.55327109,\n",
              "         0.76531168, 0.48339483]],\n",
              "\n",
              "       ...,\n",
              "\n",
              "       [[0.73909919, 0.73397112, 0.73909609, ..., 0.60496526,\n",
              "         0.83759476, 0.6402214 ],\n",
              "        [0.7387169 , 0.73358851, 0.73943571, ..., 0.5865428 ,\n",
              "         0.81634791, 0.62730627],\n",
              "        [0.73713269, 0.73714831, 0.73932048, ..., 0.5696005 ,\n",
              "         0.80928008, 0.61808118],\n",
              "        ...,\n",
              "        [0.75378601, 0.75018844, 0.7553734 , ..., 0.34372208,\n",
              "         0.58023181, 0.3597786 ],\n",
              "        [0.75538551, 0.75027108, 0.7532978 , ..., 0.34372208,\n",
              "         0.58023181, 0.3597786 ],\n",
              "        [0.74848288, 0.74412636, 0.74984706, ..., 0.34372208,\n",
              "         0.58023181, 0.3597786 ]],\n",
              "\n",
              "       [[0.7387169 , 0.73358851, 0.73943571, ..., 0.5865428 ,\n",
              "         0.81634791, 0.62730627],\n",
              "        [0.73713269, 0.73714831, 0.73932048, ..., 0.5696005 ,\n",
              "         0.80928008, 0.61808118],\n",
              "        [0.74040891, 0.73528194, 0.73960779, ..., 0.55132196,\n",
              "         0.78807018, 0.60516605],\n",
              "        ...,\n",
              "        [0.75538551, 0.75027108, 0.7532978 , ..., 0.34372208,\n",
              "         0.58023181, 0.3597786 ],\n",
              "        [0.74848288, 0.74412636, 0.74984706, ..., 0.34372208,\n",
              "         0.58023181, 0.3597786 ],\n",
              "        [0.74750116, 0.74238013, 0.74764335, ..., 0.35599132,\n",
              "         0.60688632, 0.36346863]],\n",
              "\n",
              "       [[0.73713269, 0.73714831, 0.73932048, ..., 0.5696005 ,\n",
              "         0.80928008, 0.61808118],\n",
              "        [0.74040891, 0.73528194, 0.73960779, ..., 0.55132196,\n",
              "         0.78807018, 0.60516605],\n",
              "        [0.73879335, 0.73446163, 0.74151585, ..., 0.56115943,\n",
              "         0.78843832, 0.60885609],\n",
              "        ...,\n",
              "        [0.74848288, 0.74412636, 0.74984706, ..., 0.34372208,\n",
              "         0.58023181, 0.3597786 ],\n",
              "        [0.74750116, 0.74238013, 0.74764335, ..., 0.35599132,\n",
              "         0.60688632, 0.36346863],\n",
              "        [0.74497346, 0.74129581, 0.74393789, ..., 0.35923201,\n",
              "         0.59978011, 0.36531365]]])"
            ]
          },
          "execution_count": 30,
          "metadata": {},
          "output_type": "execute_result"
        }
      ],
      "source": [
        "X_test"
      ]
    },
    {
      "cell_type": "code",
      "execution_count": null,
      "metadata": {
        "colab": {
          "base_uri": "https://localhost:8080/",
          "height": 398
        },
        "id": "UWMvVZAuNooH",
        "outputId": "af1bc713-aeb0-47e8-8496-4ed5d61549f0"
      },
      "outputs": [
        {
          "ename": "ValueError",
          "evalue": "ignored",
          "output_type": "error",
          "traceback": [
            "\u001b[0;31m---------------------------------------------------------------------------\u001b[0m",
            "\u001b[0;31mValueError\u001b[0m                                Traceback (most recent call last)",
            "\u001b[0;32m<ipython-input-32-a2c5fad8a6e8>\u001b[0m in \u001b[0;36m<module>\u001b[0;34m()\u001b[0m\n\u001b[0;32m----> 1\u001b[0;31m \u001b[0mcorr\u001b[0m \u001b[0;34m=\u001b[0m \u001b[0mnp\u001b[0m\u001b[0;34m.\u001b[0m\u001b[0mcorrcoef\u001b[0m\u001b[0;34m(\u001b[0m\u001b[0mX_test\u001b[0m\u001b[0;34m)\u001b[0m\u001b[0;34m\u001b[0m\u001b[0;34m\u001b[0m\u001b[0m\n\u001b[0m",
            "\u001b[0;32m<__array_function__ internals>\u001b[0m in \u001b[0;36mcorrcoef\u001b[0;34m(*args, **kwargs)\u001b[0m\n",
            "\u001b[0;32m/usr/local/lib/python3.7/dist-packages/numpy/lib/function_base.py\u001b[0m in \u001b[0;36mcorrcoef\u001b[0;34m(x, y, rowvar, bias, ddof)\u001b[0m\n\u001b[1;32m   2549\u001b[0m         warnings.warn('bias and ddof have no effect and are deprecated',\n\u001b[1;32m   2550\u001b[0m                       DeprecationWarning, stacklevel=3)\n\u001b[0;32m-> 2551\u001b[0;31m     \u001b[0mc\u001b[0m \u001b[0;34m=\u001b[0m \u001b[0mcov\u001b[0m\u001b[0;34m(\u001b[0m\u001b[0mx\u001b[0m\u001b[0;34m,\u001b[0m \u001b[0my\u001b[0m\u001b[0;34m,\u001b[0m \u001b[0mrowvar\u001b[0m\u001b[0;34m)\u001b[0m\u001b[0;34m\u001b[0m\u001b[0;34m\u001b[0m\u001b[0m\n\u001b[0m\u001b[1;32m   2552\u001b[0m     \u001b[0;32mtry\u001b[0m\u001b[0;34m:\u001b[0m\u001b[0;34m\u001b[0m\u001b[0;34m\u001b[0m\u001b[0m\n\u001b[1;32m   2553\u001b[0m         \u001b[0md\u001b[0m \u001b[0;34m=\u001b[0m \u001b[0mdiag\u001b[0m\u001b[0;34m(\u001b[0m\u001b[0mc\u001b[0m\u001b[0;34m)\u001b[0m\u001b[0;34m\u001b[0m\u001b[0;34m\u001b[0m\u001b[0m\n",
            "\u001b[0;32m<__array_function__ internals>\u001b[0m in \u001b[0;36mcov\u001b[0;34m(*args, **kwargs)\u001b[0m\n",
            "\u001b[0;32m/usr/local/lib/python3.7/dist-packages/numpy/lib/function_base.py\u001b[0m in \u001b[0;36mcov\u001b[0;34m(m, y, rowvar, bias, ddof, fweights, aweights)\u001b[0m\n\u001b[1;32m   2394\u001b[0m     \u001b[0mm\u001b[0m \u001b[0;34m=\u001b[0m \u001b[0mnp\u001b[0m\u001b[0;34m.\u001b[0m\u001b[0masarray\u001b[0m\u001b[0;34m(\u001b[0m\u001b[0mm\u001b[0m\u001b[0;34m)\u001b[0m\u001b[0;34m\u001b[0m\u001b[0;34m\u001b[0m\u001b[0m\n\u001b[1;32m   2395\u001b[0m     \u001b[0;32mif\u001b[0m \u001b[0mm\u001b[0m\u001b[0;34m.\u001b[0m\u001b[0mndim\u001b[0m \u001b[0;34m>\u001b[0m \u001b[0;36m2\u001b[0m\u001b[0;34m:\u001b[0m\u001b[0;34m\u001b[0m\u001b[0;34m\u001b[0m\u001b[0m\n\u001b[0;32m-> 2396\u001b[0;31m         \u001b[0;32mraise\u001b[0m \u001b[0mValueError\u001b[0m\u001b[0;34m(\u001b[0m\u001b[0;34m\"m has more than 2 dimensions\"\u001b[0m\u001b[0;34m)\u001b[0m\u001b[0;34m\u001b[0m\u001b[0;34m\u001b[0m\u001b[0m\n\u001b[0m\u001b[1;32m   2397\u001b[0m \u001b[0;34m\u001b[0m\u001b[0m\n\u001b[1;32m   2398\u001b[0m     \u001b[0;32mif\u001b[0m \u001b[0my\u001b[0m \u001b[0;32mis\u001b[0m \u001b[0;32mNone\u001b[0m\u001b[0;34m:\u001b[0m\u001b[0;34m\u001b[0m\u001b[0;34m\u001b[0m\u001b[0m\n",
            "\u001b[0;31mValueError\u001b[0m: m has more than 2 dimensions"
          ]
        }
      ],
      "source": [
        "corr = np.corrcoef(X_test)"
      ]
    },
    {
      "cell_type": "code",
      "execution_count": null,
      "metadata": {
        "colab": {
          "base_uri": "https://localhost:8080/",
          "height": 271
        },
        "id": "RRnNqKitMkCE",
        "outputId": "d460edbc-777e-4df2-dbdf-27d0b579d6fd"
      },
      "outputs": [
        {
          "data": {
            "image/png": "[encoded data removed]",
            "text/plain": [
              "<Figure size 432x288 with 2 Axes>"
            ]
          },
          "metadata": {
            "needs_background": "light"
          },
          "output_type": "display_data"
        }
      ],
      "source": [
        "ax = sns.heatmap(\n",
        "    corr, \n",
        "    vmin=-1, vmax=1, center=0,\n",
        "    cmap=sns.diverging_palette(20, 220, n=200),\n",
        "    square=True\n",
        ")\n",
        "ax.set_xticklabels(\n",
        "    ax.get_xticklabels(),\n",
        "    rotation=45,\n",
        "    horizontalalignment='right'\n",
        ");"
      ]
    },
    {
      "cell_type": "code",
      "execution_count": null,
      "metadata": {
        "id": "x2iULCoPeVvs"
      },
      "outputs": [],
      "source": []
    }
  ],
  "metadata": {
    "accelerator": "TPU",
    "colab": {
      "provenance": [],
      "include_colab_link": true
    },
    "kernelspec": {
      "display_name": "Python 3",
      "language": "python",
      "name": "python3"
    },
    "language_info": {
      "codemirror_mode": {
        "name": "ipython",
        "version": 3
      },
      "file_extension": ".py",
      "mimetype": "text/x-python",
      "name": "python",
      "nbconvert_exporter": "python",
      "pygments_lexer": "ipython3",
      "version": "3.8.2"
    },
    "widgets": {
      "application/vnd.jupyter.widget-state+json": {
        "2b5cd8e2ea7844f196a06cf941cb6502": {
          "model_module": "@jupyter-widgets/controls",
          "model_module_version": "1.5.0",
          "model_name": "IntProgressModel",
          "state": {
            "_dom_classes": [],
            "_model_module": "@jupyter-widgets/controls",
            "_model_module_version": "1.5.0",
            "_model_name": "IntProgressModel",
            "_view_count": null,
            "_view_module": "@jupyter-widgets/controls",
            "_view_module_version": "1.5.0",
            "_view_name": "ProgressView",
            "bar_style": "",
            "description": "Flair Sentiment Analysis: ",
            "description_tooltip": null,
            "layout": "IPY_MODEL_6344f039b47a4483936cbac3304f2014",
            "max": 55002,
            "min": 0,
            "orientation": "horizontal",
            "style": "IPY_MODEL_cb5530e0cd824d4884b68b3585f0774f",
            "value": 55002
          }
        },
        "6344f039b47a4483936cbac3304f2014": {
          "model_module": "@jupyter-widgets/base",
          "model_module_version": "1.2.0",
          "model_name": "LayoutModel",
          "state": {
            "_model_module": "@jupyter-widgets/base",
            "_model_module_version": "1.2.0",
            "_model_name": "LayoutModel",
            "_view_count": null,
            "_view_module": "@jupyter-widgets/base",
            "_view_module_version": "1.2.0",
            "_view_name": "LayoutView",
            "align_content": null,
            "align_items": null,
            "align_self": null,
            "border": null,
            "bottom": null,
            "display": null,
            "flex": null,
            "flex_flow": null,
            "grid_area": null,
            "grid_auto_columns": null,
            "grid_auto_flow": null,
            "grid_auto_rows": null,
            "grid_column": null,
            "grid_gap": null,
            "grid_row": null,
            "grid_template_areas": null,
            "grid_template_columns": null,
            "grid_template_rows": null,
            "height": null,
            "justify_content": null,
            "justify_items": null,
            "left": null,
            "margin": null,
            "max_height": null,
            "max_width": null,
            "min_height": null,
            "min_width": null,
            "object_fit": null,
            "object_position": null,
            "order": null,
            "overflow": null,
            "overflow_x": null,
            "overflow_y": null,
            "padding": null,
            "right": null,
            "top": null,
            "visibility": null,
            "width": null
          }
        },
        "723cc7a28ee646c7bb47aae98abf1336": {
          "model_module": "@jupyter-widgets/controls",
          "model_module_version": "1.5.0",
          "model_name": "ProgressStyleModel",
          "state": {
            "_model_module": "@jupyter-widgets/controls",
            "_model_module_version": "1.5.0",
            "_model_name": "ProgressStyleModel",
            "_view_count": null,
            "_view_module": "@jupyter-widgets/base",
            "_view_module_version": "1.2.0",
            "_view_name": "StyleView",
            "bar_color": null,
            "description_width": ""
          }
        },
        "897c12c2ba814585a3c43f388b6d053e": {
          "model_module": "@jupyter-widgets/base",
          "model_module_version": "1.2.0",
          "model_name": "LayoutModel",
          "state": {
            "_model_module": "@jupyter-widgets/base",
            "_model_module_version": "1.2.0",
            "_model_name": "LayoutModel",
            "_view_count": null,
            "_view_module": "@jupyter-widgets/base",
            "_view_module_version": "1.2.0",
            "_view_name": "LayoutView",
            "align_content": null,
            "align_items": null,
            "align_self": null,
            "border": null,
            "bottom": null,
            "display": null,
            "flex": null,
            "flex_flow": null,
            "grid_area": null,
            "grid_auto_columns": null,
            "grid_auto_flow": null,
            "grid_auto_rows": null,
            "grid_column": null,
            "grid_gap": null,
            "grid_row": null,
            "grid_template_areas": null,
            "grid_template_columns": null,
            "grid_template_rows": null,
            "height": null,
            "justify_content": null,
            "justify_items": null,
            "left": null,
            "margin": null,
            "max_height": null,
            "max_width": null,
            "min_height": null,
            "min_width": null,
            "object_fit": null,
            "object_position": null,
            "order": null,
            "overflow": null,
            "overflow_x": null,
            "overflow_y": null,
            "padding": null,
            "right": null,
            "top": null,
            "visibility": null,
            "width": null
          }
        },
        "a96504850f574e358cd838ea2d1dcf66": {
          "model_module": "@jupyter-widgets/controls",
          "model_module_version": "1.5.0",
          "model_name": "IntProgressModel",
          "state": {
            "_dom_classes": [],
            "_model_module": "@jupyter-widgets/controls",
            "_model_module_version": "1.5.0",
            "_model_name": "IntProgressModel",
            "_view_count": null,
            "_view_module": "@jupyter-widgets/controls",
            "_view_module_version": "1.5.0",
            "_view_name": "ProgressView",
            "bar_style": "",
            "description": "Flair Sentiment Analysis: ",
            "description_tooltip": null,
            "layout": "IPY_MODEL_897c12c2ba814585a3c43f388b6d053e",
            "max": 55002,
            "min": 0,
            "orientation": "horizontal",
            "style": "IPY_MODEL_723cc7a28ee646c7bb47aae98abf1336",
            "value": 55002
          }
        },
        "cb5530e0cd824d4884b68b3585f0774f": {
          "model_module": "@jupyter-widgets/controls",
          "model_module_version": "1.5.0",
          "model_name": "ProgressStyleModel",
          "state": {
            "_model_module": "@jupyter-widgets/controls",
            "_model_module_version": "1.5.0",
            "_model_name": "ProgressStyleModel",
            "_view_count": null,
            "_view_module": "@jupyter-widgets/base",
            "_view_module_version": "1.2.0",
            "_view_name": "StyleView",
            "bar_color": null,
            "description_width": ""
          }
        }
      }
    }
  },
  "nbformat": 4,
  "nbformat_minor": 0
}